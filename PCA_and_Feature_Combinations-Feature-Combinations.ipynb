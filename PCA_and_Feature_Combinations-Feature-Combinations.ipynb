{
 "cells": [
  {
   "cell_type": "markdown",
   "metadata": {
    "colab_type": "text",
    "id": "PUwxKEdl96of"
   },
   "source": [
    "#### From Kevin"
   ]
  },
  {
   "cell_type": "code",
   "execution_count": 45,
   "metadata": {
    "colab": {},
    "colab_type": "code",
    "id": "WwBbhEHC96og"
   },
   "outputs": [],
   "source": [
    "import pandas as pd\n",
    "import numpy as np\n",
    "from sklearn.model_selection import train_test_split\n",
    "import seaborn as sns\n",
    "from sklearn import tree"
   ]
  },
  {
   "cell_type": "code",
   "execution_count": 46,
   "metadata": {
    "colab": {
     "base_uri": "https://localhost:8080/",
     "height": 173
    },
    "colab_type": "code",
    "id": "uEGqpcIQ96oj",
    "outputId": "c58e0a80-b7df-44cd-cba1-789ab0171a9c"
   },
   "outputs": [],
   "source": [
    "df = pd.read_csv('https://raw.githubusercontent.com/soumoks/Titanic-Kaggle-Competition/master/train.csv', index_col='PassengerId')\n",
    "df_test = pd.read_csv('https://raw.githubusercontent.com/soumoks/Titanic-Kaggle-Competition/master/test.csv', index_col='PassengerId')\n",
    "df = df.append(df_test)"
   ]
  },
  {
   "cell_type": "code",
   "execution_count": 47,
   "metadata": {
    "colab": {
     "base_uri": "https://localhost:8080/",
     "height": 871
    },
    "colab_type": "code",
    "id": "wdXLcyHP-Jr9",
    "outputId": "ac5892d9-ac17-44bb-fe18-28f4a336ed1a"
   },
   "outputs": [
    {
     "data": {
      "text/html": [
       "<div>\n",
       "<style scoped>\n",
       "    .dataframe tbody tr th:only-of-type {\n",
       "        vertical-align: middle;\n",
       "    }\n",
       "\n",
       "    .dataframe tbody tr th {\n",
       "        vertical-align: top;\n",
       "    }\n",
       "\n",
       "    .dataframe thead th {\n",
       "        text-align: right;\n",
       "    }\n",
       "</style>\n",
       "<table border=\"1\" class=\"dataframe\">\n",
       "  <thead>\n",
       "    <tr style=\"text-align: right;\">\n",
       "      <th></th>\n",
       "      <th>Survived</th>\n",
       "      <th>Pclass</th>\n",
       "      <th>Name</th>\n",
       "      <th>Sex</th>\n",
       "      <th>Age</th>\n",
       "      <th>SibSp</th>\n",
       "      <th>Parch</th>\n",
       "      <th>Ticket</th>\n",
       "      <th>Fare</th>\n",
       "      <th>Cabin</th>\n",
       "      <th>Embarked</th>\n",
       "    </tr>\n",
       "    <tr>\n",
       "      <th>PassengerId</th>\n",
       "      <th></th>\n",
       "      <th></th>\n",
       "      <th></th>\n",
       "      <th></th>\n",
       "      <th></th>\n",
       "      <th></th>\n",
       "      <th></th>\n",
       "      <th></th>\n",
       "      <th></th>\n",
       "      <th></th>\n",
       "      <th></th>\n",
       "    </tr>\n",
       "  </thead>\n",
       "  <tbody>\n",
       "    <tr>\n",
       "      <th>1</th>\n",
       "      <td>0.0</td>\n",
       "      <td>3</td>\n",
       "      <td>Braund, Mr. Owen Harris</td>\n",
       "      <td>male</td>\n",
       "      <td>22.0</td>\n",
       "      <td>1</td>\n",
       "      <td>0</td>\n",
       "      <td>A/5 21171</td>\n",
       "      <td>7.2500</td>\n",
       "      <td>NaN</td>\n",
       "      <td>S</td>\n",
       "    </tr>\n",
       "    <tr>\n",
       "      <th>2</th>\n",
       "      <td>1.0</td>\n",
       "      <td>1</td>\n",
       "      <td>Cumings, Mrs. John Bradley (Florence Briggs Th...</td>\n",
       "      <td>female</td>\n",
       "      <td>38.0</td>\n",
       "      <td>1</td>\n",
       "      <td>0</td>\n",
       "      <td>PC 17599</td>\n",
       "      <td>71.2833</td>\n",
       "      <td>C85</td>\n",
       "      <td>C</td>\n",
       "    </tr>\n",
       "    <tr>\n",
       "      <th>3</th>\n",
       "      <td>1.0</td>\n",
       "      <td>3</td>\n",
       "      <td>Heikkinen, Miss. Laina</td>\n",
       "      <td>female</td>\n",
       "      <td>26.0</td>\n",
       "      <td>0</td>\n",
       "      <td>0</td>\n",
       "      <td>STON/O2. 3101282</td>\n",
       "      <td>7.9250</td>\n",
       "      <td>NaN</td>\n",
       "      <td>S</td>\n",
       "    </tr>\n",
       "    <tr>\n",
       "      <th>4</th>\n",
       "      <td>1.0</td>\n",
       "      <td>1</td>\n",
       "      <td>Futrelle, Mrs. Jacques Heath (Lily May Peel)</td>\n",
       "      <td>female</td>\n",
       "      <td>35.0</td>\n",
       "      <td>1</td>\n",
       "      <td>0</td>\n",
       "      <td>113803</td>\n",
       "      <td>53.1000</td>\n",
       "      <td>C123</td>\n",
       "      <td>S</td>\n",
       "    </tr>\n",
       "    <tr>\n",
       "      <th>5</th>\n",
       "      <td>0.0</td>\n",
       "      <td>3</td>\n",
       "      <td>Allen, Mr. William Henry</td>\n",
       "      <td>male</td>\n",
       "      <td>35.0</td>\n",
       "      <td>0</td>\n",
       "      <td>0</td>\n",
       "      <td>373450</td>\n",
       "      <td>8.0500</td>\n",
       "      <td>NaN</td>\n",
       "      <td>S</td>\n",
       "    </tr>\n",
       "    <tr>\n",
       "      <th>...</th>\n",
       "      <td>...</td>\n",
       "      <td>...</td>\n",
       "      <td>...</td>\n",
       "      <td>...</td>\n",
       "      <td>...</td>\n",
       "      <td>...</td>\n",
       "      <td>...</td>\n",
       "      <td>...</td>\n",
       "      <td>...</td>\n",
       "      <td>...</td>\n",
       "      <td>...</td>\n",
       "    </tr>\n",
       "    <tr>\n",
       "      <th>1305</th>\n",
       "      <td>NaN</td>\n",
       "      <td>3</td>\n",
       "      <td>Spector, Mr. Woolf</td>\n",
       "      <td>male</td>\n",
       "      <td>NaN</td>\n",
       "      <td>0</td>\n",
       "      <td>0</td>\n",
       "      <td>A.5. 3236</td>\n",
       "      <td>8.0500</td>\n",
       "      <td>NaN</td>\n",
       "      <td>S</td>\n",
       "    </tr>\n",
       "    <tr>\n",
       "      <th>1306</th>\n",
       "      <td>NaN</td>\n",
       "      <td>1</td>\n",
       "      <td>Oliva y Ocana, Dona. Fermina</td>\n",
       "      <td>female</td>\n",
       "      <td>39.0</td>\n",
       "      <td>0</td>\n",
       "      <td>0</td>\n",
       "      <td>PC 17758</td>\n",
       "      <td>108.9000</td>\n",
       "      <td>C105</td>\n",
       "      <td>C</td>\n",
       "    </tr>\n",
       "    <tr>\n",
       "      <th>1307</th>\n",
       "      <td>NaN</td>\n",
       "      <td>3</td>\n",
       "      <td>Saether, Mr. Simon Sivertsen</td>\n",
       "      <td>male</td>\n",
       "      <td>38.5</td>\n",
       "      <td>0</td>\n",
       "      <td>0</td>\n",
       "      <td>SOTON/O.Q. 3101262</td>\n",
       "      <td>7.2500</td>\n",
       "      <td>NaN</td>\n",
       "      <td>S</td>\n",
       "    </tr>\n",
       "    <tr>\n",
       "      <th>1308</th>\n",
       "      <td>NaN</td>\n",
       "      <td>3</td>\n",
       "      <td>Ware, Mr. Frederick</td>\n",
       "      <td>male</td>\n",
       "      <td>NaN</td>\n",
       "      <td>0</td>\n",
       "      <td>0</td>\n",
       "      <td>359309</td>\n",
       "      <td>8.0500</td>\n",
       "      <td>NaN</td>\n",
       "      <td>S</td>\n",
       "    </tr>\n",
       "    <tr>\n",
       "      <th>1309</th>\n",
       "      <td>NaN</td>\n",
       "      <td>3</td>\n",
       "      <td>Peter, Master. Michael J</td>\n",
       "      <td>male</td>\n",
       "      <td>NaN</td>\n",
       "      <td>1</td>\n",
       "      <td>1</td>\n",
       "      <td>2668</td>\n",
       "      <td>22.3583</td>\n",
       "      <td>NaN</td>\n",
       "      <td>C</td>\n",
       "    </tr>\n",
       "  </tbody>\n",
       "</table>\n",
       "<p>1309 rows × 11 columns</p>\n",
       "</div>"
      ],
      "text/plain": [
       "             Survived  Pclass  \\\n",
       "PassengerId                     \n",
       "1                 0.0       3   \n",
       "2                 1.0       1   \n",
       "3                 1.0       3   \n",
       "4                 1.0       1   \n",
       "5                 0.0       3   \n",
       "...               ...     ...   \n",
       "1305              NaN       3   \n",
       "1306              NaN       1   \n",
       "1307              NaN       3   \n",
       "1308              NaN       3   \n",
       "1309              NaN       3   \n",
       "\n",
       "                                                          Name     Sex   Age  \\\n",
       "PassengerId                                                                    \n",
       "1                                      Braund, Mr. Owen Harris    male  22.0   \n",
       "2            Cumings, Mrs. John Bradley (Florence Briggs Th...  female  38.0   \n",
       "3                                       Heikkinen, Miss. Laina  female  26.0   \n",
       "4                 Futrelle, Mrs. Jacques Heath (Lily May Peel)  female  35.0   \n",
       "5                                     Allen, Mr. William Henry    male  35.0   \n",
       "...                                                        ...     ...   ...   \n",
       "1305                                        Spector, Mr. Woolf    male   NaN   \n",
       "1306                              Oliva y Ocana, Dona. Fermina  female  39.0   \n",
       "1307                              Saether, Mr. Simon Sivertsen    male  38.5   \n",
       "1308                                       Ware, Mr. Frederick    male   NaN   \n",
       "1309                                  Peter, Master. Michael J    male   NaN   \n",
       "\n",
       "             SibSp  Parch              Ticket      Fare Cabin Embarked  \n",
       "PassengerId                                                             \n",
       "1                1      0           A/5 21171    7.2500   NaN        S  \n",
       "2                1      0            PC 17599   71.2833   C85        C  \n",
       "3                0      0    STON/O2. 3101282    7.9250   NaN        S  \n",
       "4                1      0              113803   53.1000  C123        S  \n",
       "5                0      0              373450    8.0500   NaN        S  \n",
       "...            ...    ...                 ...       ...   ...      ...  \n",
       "1305             0      0           A.5. 3236    8.0500   NaN        S  \n",
       "1306             0      0            PC 17758  108.9000  C105        C  \n",
       "1307             0      0  SOTON/O.Q. 3101262    7.2500   NaN        S  \n",
       "1308             0      0              359309    8.0500   NaN        S  \n",
       "1309             1      1                2668   22.3583   NaN        C  \n",
       "\n",
       "[1309 rows x 11 columns]"
      ]
     },
     "execution_count": 47,
     "metadata": {},
     "output_type": "execute_result"
    }
   ],
   "source": [
    "df"
   ]
  },
  {
   "cell_type": "code",
   "execution_count": 48,
   "metadata": {
    "colab": {
     "base_uri": "https://localhost:8080/",
     "height": 402
    },
    "colab_type": "code",
    "id": "iNIXyjyj96om",
    "outputId": "80624033-04a2-4e69-d1ef-ee2c98cc7fc9"
   },
   "outputs": [
    {
     "name": "stderr",
     "output_type": "stream",
     "text": [
      "C:\\Users\\soumo\\Anaconda3\\lib\\site-packages\\seaborn\\categorical.py:3669: UserWarning: The `factorplot` function has been renamed to `catplot`. The original name will be removed in a future release. Please update your code. Note that the default `kind` in `factorplot` (`'point'`) has changed `'strip'` in `catplot`.\n",
      "  warnings.warn(msg)\n"
     ]
    },
    {
     "data": {
      "image/png": "[encoded data removed]",
      "text/plain": [
       "<Figure size 900x360 with 1 Axes>"
      ]
     },
     "metadata": {
      "needs_background": "light"
     },
     "output_type": "display_data"
    }
   ],
   "source": [
    "# Fill embarked\n",
    "# A quick inspect shows that here are 2 embarked values missing. Since this number is\n",
    "# small, we fill the missing values with the most common class 'S'.\n",
    "# As demonstrated in the plot, there is definitely a correlation between embarked and \n",
    "# the survival rate. Passengers from port 'Southampton' have only 34% of survival rate \n",
    "# while those from the port 'Cherbourg' have 55% chance.\n",
    "df.Embarked = df.Embarked.fillna('S')\n",
    "axes = sns.factorplot('Embarked','Survived', data=df, aspect = 2.5)\n",
    "df.Fare = df.Fare.fillna(df.Fare.mean())"
   ]
  },
  {
   "cell_type": "code",
   "execution_count": 49,
   "metadata": {
    "colab": {
     "base_uri": "https://localhost:8080/",
     "height": 766
    },
    "colab_type": "code",
    "id": "IuGNbk_u96oo",
    "outputId": "3d543aaa-5ca8-4753-fdf4-47ddd85032c5"
   },
   "outputs": [
    {
     "name": "stderr",
     "output_type": "stream",
     "text": [
      "C:\\Users\\soumo\\Anaconda3\\lib\\site-packages\\seaborn\\categorical.py:3669: UserWarning: The `factorplot` function has been renamed to `catplot`. The original name will be removed in a future release. Please update your code. Note that the default `kind` in `factorplot` (`'point'`) has changed `'strip'` in `catplot`.\n",
      "  warnings.warn(msg)\n",
      "C:\\Users\\soumo\\Anaconda3\\lib\\site-packages\\seaborn\\categorical.py:3669: UserWarning: The `factorplot` function has been renamed to `catplot`. The original name will be removed in a future release. Please update your code. Note that the default `kind` in `factorplot` (`'point'`) has changed `'strip'` in `catplot`.\n",
      "  warnings.warn(msg)\n"
     ]
    },
    {
     "data": {
      "image/png": "[encoded data removed]",
      "text/plain": [
       "<Figure size 900x360 with 1 Axes>"
      ]
     },
     "metadata": {
      "needs_background": "light"
     },
     "output_type": "display_data"
    },
    {
     "data": {
      "image/png": "[encoded data removed]",
      "text/plain": [
       "<Figure size 900x360 with 1 Axes>"
      ]
     },
     "metadata": {
      "needs_background": "light"
     },
     "output_type": "display_data"
    }
   ],
   "source": [
    "# Add features called Alone and Relatives\n",
    "# Passengers traveled with families have higher survival rate than travel alone. Also, \n",
    "# passengers with 2 to 3 family members on board tends to have better chance of survival.\n",
    "# As demonstrated in the plot, passenders travaled with 3 family members have 70% survival rate\n",
    "# while passenger traveled with large family, 7-8 members have 0% survival rate.\n",
    "\n",
    "df['Relatives'] = df['SibSp'] + df['Parch']\n",
    "df.loc[df['Relatives'] > 0, 'Alone'] = 'No'\n",
    "df.loc[df['Relatives'] == 0, 'Alone'] = 'Yes'\n",
    "axes = sns.factorplot('Alone','Survived', data=df, aspect = 2.5)\n",
    "axes = sns.factorplot('Relatives','Survived', data=df, aspect = 2.5)"
   ]
  },
  {
   "cell_type": "code",
   "execution_count": 50,
   "metadata": {
    "colab": {
     "base_uri": "https://localhost:8080/",
     "height": 402
    },
    "colab_type": "code",
    "id": "JC-lwZDI96oq",
    "outputId": "595d61c3-bf52-4ea1-ecd6-de114ddc47e9"
   },
   "outputs": [
    {
     "name": "stderr",
     "output_type": "stream",
     "text": [
      "C:\\Users\\soumo\\Anaconda3\\lib\\site-packages\\seaborn\\categorical.py:3669: UserWarning: The `factorplot` function has been renamed to `catplot`. The original name will be removed in a future release. Please update your code. Note that the default `kind` in `factorplot` (`'point'`) has changed `'strip'` in `catplot`.\n",
      "  warnings.warn(msg)\n"
     ]
    },
    {
     "data": {
      "image/png": "[encoded data removed]",
      "text/plain": [
       "<Figure size 900x360 with 1 Axes>"
      ]
     },
     "metadata": {
      "needs_background": "light"
     },
     "output_type": "display_data"
    }
   ],
   "source": [
    "# Extract the passenger's Title from Name\n",
    "# We created an additonal features called Title to explore the correlation between survival rate\n",
    "# based on the passenger's social status. The titles can be classified into 3 main categories,\n",
    "# Royalty, Workers and Civilians. Class worker includes Master and Officers where Offers have\n",
    "# only 30% survival rate while Masters have about 60%. Royalites also have a high survival rate\n",
    "# at just above 60%. On the other hand, male civilians do not stand much chance to survive. Only\n",
    "# 10% of male who are civilian survived. Guess Jack didn't make the cut :(\n",
    "df2 = df\n",
    "df2['Title'] = df2.Name\n",
    "df2.Title = df2.Title.replace(regex={\n",
    "    r'.*, Capt.*': 'Officer',\n",
    "    r'.*, Col.*': 'Officer',\n",
    "    r'.*, Major.*': 'Officer',\n",
    "    r'.*, Jonkheer.*': 'Royalty',\n",
    "    r'.*, Don.*': 'Royalty',\n",
    "    r'.*, Sir.*': 'Royalty',\n",
    "    r'.*, Dr.*': 'Officer',\n",
    "    r'.*, Rev.*': 'Officer',\n",
    "    r'.*, the Countess.*': 'Royalty',\n",
    "    r'.*, Mme.*': 'Mrs',\n",
    "    r'.*, Mlle.*': 'Miss',\n",
    "    r'.*, Ms.*': 'Mrs',\n",
    "    r'.*, Mrs.*': 'Mrs',\n",
    "    r'.*, Mr.*': 'Mr',\n",
    "    r'.*, Miss.*': 'Miss',\n",
    "    r'.*, Master.*': 'Master',\n",
    "    r'.*, Lady.*': 'Royalty'\n",
    "})\n",
    "axes = sns.factorplot('Title','Survived', data=df2, aspect = 2.5)"
   ]
  },
  {
   "cell_type": "code",
   "execution_count": 51,
   "metadata": {
    "colab": {
     "base_uri": "https://localhost:8080/",
     "height": 1000
    },
    "colab_type": "code",
    "id": "RxvKbrCZ96os",
    "outputId": "e21b2ad5-618f-432c-ff5d-e3c5b4e4e77c"
   },
   "outputs": [
    {
     "name": "stderr",
     "output_type": "stream",
     "text": [
      "C:\\Users\\soumo\\Anaconda3\\lib\\site-packages\\seaborn\\categorical.py:3669: UserWarning: The `factorplot` function has been renamed to `catplot`. The original name will be removed in a future release. Please update your code. Note that the default `kind` in `factorplot` (`'point'`) has changed `'strip'` in `catplot`.\n",
      "  warnings.warn(msg)\n",
      "C:\\Users\\soumo\\Anaconda3\\lib\\site-packages\\seaborn\\categorical.py:3669: UserWarning: The `factorplot` function has been renamed to `catplot`. The original name will be removed in a future release. Please update your code. Note that the default `kind` in `factorplot` (`'point'`) has changed `'strip'` in `catplot`.\n",
      "  warnings.warn(msg)\n",
      "C:\\Users\\soumo\\Anaconda3\\lib\\site-packages\\seaborn\\categorical.py:3669: UserWarning: The `factorplot` function has been renamed to `catplot`. The original name will be removed in a future release. Please update your code. Note that the default `kind` in `factorplot` (`'point'`) has changed `'strip'` in `catplot`.\n",
      "  warnings.warn(msg)\n"
     ]
    },
    {
     "data": {
      "image/png": "[encoded data removed]",
      "text/plain": [
       "<Figure size 900x360 with 1 Axes>"
      ]
     },
     "metadata": {
      "needs_background": "light"
     },
     "output_type": "display_data"
    },
    {
     "data": {
      "image/png": "[encoded data removed]",
      "text/plain": [
       "<Figure size 900x360 with 1 Axes>"
      ]
     },
     "metadata": {
      "needs_background": "light"
     },
     "output_type": "display_data"
    },
    {
     "data": {
      "image/png": "[encoded data removed]",
      "text/plain": [
       "<Figure size 900x360 with 1 Axes>"
      ]
     },
     "metadata": {
      "needs_background": "light"
     },
     "output_type": "display_data"
    }
   ],
   "source": [
    "# fill age based on sex, class and title\n",
    "# A quick inspect using .info() shows there are 263 passengers have the value Age missing. This\n",
    "# is quite a large amount considering the dataset have only 1309 samples. Filling the age with\n",
    "# mean would be an option, but may not be the best approach. Instead, we use the median based on\n",
    "# three other features, Sex, Pclass and Title. As demonstrated in the plots, the passenger's age\n",
    "# are highly influenced by these three features.\n",
    "df3 = df2\n",
    "grouped = df3.groupby(['Sex', 'Pclass', 'Title'])\n",
    "grouped_median = grouped.median()\n",
    "grouped_median = grouped_median.reset_index()[['Sex', 'Pclass', 'Title', 'Age']]\n",
    "\n",
    "def fill_age(row):\n",
    "    condition = (\n",
    "        (grouped_median['Sex'] == row['Sex']) &\n",
    "        (grouped_median['Title'] == row['Title']) &\n",
    "        (grouped_median['Pclass'] == row['Pclass'])\n",
    "    )\n",
    "    if np.isnan(grouped_median[condition]['Age'].values[0]):\n",
    "        condition = (\n",
    "            (grouped_median['Sex'] == row['Sex']) &\n",
    "            (grouped_median['Pclass'] == row['Pclass'])\n",
    "        )\n",
    "    return grouped_median[condition]['Age'].values[0]\n",
    "\n",
    "df3['Age'] = df3.apply(lambda row: fill_age(row) if np.isnan(row['Age']) else row['Age'], axis=1)\n",
    "axes = sns.factorplot('Pclass','Age', data=df2, aspect = 2.5)\n",
    "axes = sns.factorplot('Sex','Age', data=df2, aspect = 2.5)\n",
    "axes = sns.factorplot('Title','Age', data=df2, aspect = 2.5)"
   ]
  },
  {
   "cell_type": "code",
   "execution_count": 52,
   "metadata": {
    "colab": {
     "base_uri": "https://localhost:8080/",
     "height": 766
    },
    "colab_type": "code",
    "id": "QAl0xuBu96ov",
    "outputId": "f9b342ba-387b-444e-bfe3-e308d46f0617"
   },
   "outputs": [
    {
     "name": "stderr",
     "output_type": "stream",
     "text": [
      "C:\\Users\\soumo\\Anaconda3\\lib\\site-packages\\seaborn\\categorical.py:3669: UserWarning: The `factorplot` function has been renamed to `catplot`. The original name will be removed in a future release. Please update your code. Note that the default `kind` in `factorplot` (`'point'`) has changed `'strip'` in `catplot`.\n",
      "  warnings.warn(msg)\n",
      "C:\\Users\\soumo\\Anaconda3\\lib\\site-packages\\seaborn\\categorical.py:3669: UserWarning: The `factorplot` function has been renamed to `catplot`. The original name will be removed in a future release. Please update your code. Note that the default `kind` in `factorplot` (`'point'`) has changed `'strip'` in `catplot`.\n",
      "  warnings.warn(msg)\n"
     ]
    },
    {
     "data": {
      "image/png": "[encoded data removed]",
      "text/plain": [
       "<Figure size 900x360 with 1 Axes>"
      ]
     },
     "metadata": {
      "needs_background": "light"
     },
     "output_type": "display_data"
    },
    {
     "data": {
      "image/png": "[encoded data removed]",
      "text/plain": [
       "<Figure size 900x360 with 1 Axes>"
      ]
     },
     "metadata": {
      "needs_background": "light"
     },
     "output_type": "display_data"
    }
   ],
   "source": [
    "# Add a feature called AgeGroup\n",
    "\n",
    "bins = list(range(0, 81, 5))\n",
    "labels = list(range(len(bins)-1))\n",
    "df3['AgeGroup'] = pd.cut(df3.Age, bins, labels=labels, include_lowest=True)\n",
    "axes = sns.factorplot('AgeGroup','Survived', data=df3, aspect = 2.5)\n",
    "df3.AgeGroup = df3.AgeGroup = df.AgeGroup.replace({\n",
    "    0:3, \n",
    "    1:1, \n",
    "    2:2, \n",
    "    3:2, \n",
    "    4:2, \n",
    "    5:1, \n",
    "    6:2, \n",
    "    7:2, \n",
    "    8:1, \n",
    "    9:3, \n",
    "    10:3, \n",
    "    11:3, \n",
    "    12:1, \n",
    "    13:0,\n",
    "    14:0,\n",
    "    15:4\n",
    "})\n",
    "\n",
    "# let's see how it's distributed train_df['Age'].value_counts()\n",
    "axes = sns.factorplot('AgeGroup','Survived', data=df3, aspect = 2.5)"
   ]
  },
  {
   "cell_type": "code",
   "execution_count": 53,
   "metadata": {
    "colab": {
     "base_uri": "https://localhost:8080/",
     "height": 402
    },
    "colab_type": "code",
    "id": "zNR7M3Yz96ox",
    "outputId": "6ae4c3d7-a023-4399-eef6-67d01f7045fc"
   },
   "outputs": [
    {
     "name": "stderr",
     "output_type": "stream",
     "text": [
      "C:\\Users\\soumo\\Anaconda3\\lib\\site-packages\\seaborn\\categorical.py:3669: UserWarning: The `factorplot` function has been renamed to `catplot`. The original name will be removed in a future release. Please update your code. Note that the default `kind` in `factorplot` (`'point'`) has changed `'strip'` in `catplot`.\n",
      "  warnings.warn(msg)\n"
     ]
    },
    {
     "data": {
      "image/png": "[encoded data removed]",
      "text/plain": [
       "<Figure size 900x360 with 1 Axes>"
      ]
     },
     "metadata": {
      "needs_background": "light"
     },
     "output_type": "display_data"
    }
   ],
   "source": [
    "# Add a feature called Age Class\n",
    "\n",
    "df3['Age_Class']= df3['AgeGroup']* df3['Pclass']\n",
    "axes = sns.factorplot('Age_Class','Survived', data=df3, aspect = 2.5)"
   ]
  },
  {
   "cell_type": "code",
   "execution_count": 54,
   "metadata": {
    "colab": {},
    "colab_type": "code",
    "id": "s9W8F6VN96oz"
   },
   "outputs": [],
   "source": [
    "# Convert fare to categories\n",
    "df3.loc[df3['Fare'] <= 7.91, 'Fare'] = 0\n",
    "df3.loc[(df3['Fare'] > 7.91) & (df3['Fare'] <= 14.454), 'Fare'] = 1\n",
    "df3.loc[(df3['Fare'] > 14.454) & (df3['Fare'] <= 31), 'Fare'] = 2\n",
    "df3.loc[(df3['Fare'] > 31) & (df3['Fare'] <= 99), 'Fare'] = 3\n",
    "df3.loc[(df3['Fare'] > 99) & (df3['Fare'] <= 250), 'Fare'] = 4\n",
    "df3.loc[ df3['Fare'] > 250, 'Fare'] = 5\n",
    "df3['Fare'] = df3['Fare'].astype(int)"
   ]
  },
  {
   "cell_type": "code",
   "execution_count": 55,
   "metadata": {
    "colab": {},
    "colab_type": "code",
    "id": "foxRc8Wk96o1"
   },
   "outputs": [],
   "source": [
    "# %%\n",
    "df3['Fare_Per_Person'] = df3['Fare']/(df3['Relatives']+1)\n",
    "df3['Fare_Per_Person'] = df3['Fare_Per_Person'].astype(int)"
   ]
  },
  {
   "cell_type": "code",
   "execution_count": 56,
   "metadata": {
    "colab": {
     "base_uri": "https://localhost:8080/",
     "height": 235
    },
    "colab_type": "code",
    "id": "lDuBI_WC96o3",
    "outputId": "ddf94164-0e2e-47c9-b579-a4d58a8c4881"
   },
   "outputs": [
    {
     "data": {
      "text/html": [
       "<div>\n",
       "<style scoped>\n",
       "    .dataframe tbody tr th:only-of-type {\n",
       "        vertical-align: middle;\n",
       "    }\n",
       "\n",
       "    .dataframe tbody tr th {\n",
       "        vertical-align: top;\n",
       "    }\n",
       "\n",
       "    .dataframe thead th {\n",
       "        text-align: right;\n",
       "    }\n",
       "</style>\n",
       "<table border=\"1\" class=\"dataframe\">\n",
       "  <thead>\n",
       "    <tr style=\"text-align: right;\">\n",
       "      <th></th>\n",
       "      <th>Sex</th>\n",
       "      <th>Title</th>\n",
       "      <th>AgeGroup</th>\n",
       "      <th>Fare</th>\n",
       "      <th>Relatives</th>\n",
       "      <th>Age_Class</th>\n",
       "      <th>Embarked</th>\n",
       "      <th>Pclass</th>\n",
       "    </tr>\n",
       "    <tr>\n",
       "      <th>PassengerId</th>\n",
       "      <th></th>\n",
       "      <th></th>\n",
       "      <th></th>\n",
       "      <th></th>\n",
       "      <th></th>\n",
       "      <th></th>\n",
       "      <th></th>\n",
       "      <th></th>\n",
       "    </tr>\n",
       "  </thead>\n",
       "  <tbody>\n",
       "    <tr>\n",
       "      <th>1</th>\n",
       "      <td>male</td>\n",
       "      <td>Mr</td>\n",
       "      <td>2</td>\n",
       "      <td>0</td>\n",
       "      <td>1</td>\n",
       "      <td>6</td>\n",
       "      <td>S</td>\n",
       "      <td>3</td>\n",
       "    </tr>\n",
       "    <tr>\n",
       "      <th>2</th>\n",
       "      <td>female</td>\n",
       "      <td>Mrs</td>\n",
       "      <td>2</td>\n",
       "      <td>3</td>\n",
       "      <td>1</td>\n",
       "      <td>2</td>\n",
       "      <td>C</td>\n",
       "      <td>1</td>\n",
       "    </tr>\n",
       "    <tr>\n",
       "      <th>3</th>\n",
       "      <td>female</td>\n",
       "      <td>Miss</td>\n",
       "      <td>1</td>\n",
       "      <td>1</td>\n",
       "      <td>0</td>\n",
       "      <td>3</td>\n",
       "      <td>S</td>\n",
       "      <td>3</td>\n",
       "    </tr>\n",
       "    <tr>\n",
       "      <th>4</th>\n",
       "      <td>female</td>\n",
       "      <td>Mrs</td>\n",
       "      <td>2</td>\n",
       "      <td>3</td>\n",
       "      <td>1</td>\n",
       "      <td>2</td>\n",
       "      <td>S</td>\n",
       "      <td>1</td>\n",
       "    </tr>\n",
       "    <tr>\n",
       "      <th>5</th>\n",
       "      <td>male</td>\n",
       "      <td>Mr</td>\n",
       "      <td>2</td>\n",
       "      <td>1</td>\n",
       "      <td>0</td>\n",
       "      <td>6</td>\n",
       "      <td>S</td>\n",
       "      <td>3</td>\n",
       "    </tr>\n",
       "  </tbody>\n",
       "</table>\n",
       "</div>"
      ],
      "text/plain": [
       "                Sex Title  AgeGroup  Fare  Relatives  Age_Class Embarked  \\\n",
       "PassengerId                                                                \n",
       "1              male    Mr         2     0          1          6        S   \n",
       "2            female   Mrs         2     3          1          2        C   \n",
       "3            female  Miss         1     1          0          3        S   \n",
       "4            female   Mrs         2     3          1          2        S   \n",
       "5              male    Mr         2     1          0          6        S   \n",
       "\n",
       "             Pclass  \n",
       "PassengerId          \n",
       "1                 3  \n",
       "2                 1  \n",
       "3                 3  \n",
       "4                 1  \n",
       "5                 3  "
      ]
     },
     "execution_count": 56,
     "metadata": {},
     "output_type": "execute_result"
    }
   ],
   "source": [
    "df4 = df3\n",
    "df4 = df4.loc[:, ['Sex', 'Title', 'AgeGroup', 'Fare', 'Relatives', 'Age_Class', 'Embarked', 'Pclass']]\n",
    "#df4 = df4.loc[:, ['Sex', 'Title', 'AgeGroup', 'Fare', 'Relatives', 'Embarked', 'Pclass']]\n",
    "#df4 = df4.loc[:, ['Sex', 'Title', 'SibSp', 'AgeGroup', 'Fare_Per_Person', 'Age_Class', 'Fare', 'Relatives', 'Embarked', 'Pclass']]\n",
    "labels = df3['Survived'].dropna()\n",
    "df4.head()"
   ]
  },
  {
   "cell_type": "code",
   "execution_count": 57,
   "metadata": {
    "colab": {
     "base_uri": "https://localhost:8080/",
     "height": 235
    },
    "colab_type": "code",
    "id": "vsneYpUk96o6",
    "outputId": "6c3409fa-170f-4d3e-eeb4-051c546a9ed0"
   },
   "outputs": [
    {
     "data": {
      "text/html": [
       "<div>\n",
       "<style scoped>\n",
       "    .dataframe tbody tr th:only-of-type {\n",
       "        vertical-align: middle;\n",
       "    }\n",
       "\n",
       "    .dataframe tbody tr th {\n",
       "        vertical-align: top;\n",
       "    }\n",
       "\n",
       "    .dataframe thead th {\n",
       "        text-align: right;\n",
       "    }\n",
       "</style>\n",
       "<table border=\"1\" class=\"dataframe\">\n",
       "  <thead>\n",
       "    <tr style=\"text-align: right;\">\n",
       "      <th></th>\n",
       "      <th>Sex</th>\n",
       "      <th>Title</th>\n",
       "      <th>AgeGroup</th>\n",
       "      <th>Fare</th>\n",
       "      <th>Relatives</th>\n",
       "      <th>Embarked</th>\n",
       "      <th>Pclass</th>\n",
       "    </tr>\n",
       "    <tr>\n",
       "      <th>PassengerId</th>\n",
       "      <th></th>\n",
       "      <th></th>\n",
       "      <th></th>\n",
       "      <th></th>\n",
       "      <th></th>\n",
       "      <th></th>\n",
       "      <th></th>\n",
       "    </tr>\n",
       "  </thead>\n",
       "  <tbody>\n",
       "    <tr>\n",
       "      <th>1</th>\n",
       "      <td>0</td>\n",
       "      <td>0</td>\n",
       "      <td>2</td>\n",
       "      <td>0</td>\n",
       "      <td>1</td>\n",
       "      <td>0</td>\n",
       "      <td>3</td>\n",
       "    </tr>\n",
       "    <tr>\n",
       "      <th>2</th>\n",
       "      <td>1</td>\n",
       "      <td>1</td>\n",
       "      <td>2</td>\n",
       "      <td>3</td>\n",
       "      <td>1</td>\n",
       "      <td>1</td>\n",
       "      <td>1</td>\n",
       "    </tr>\n",
       "    <tr>\n",
       "      <th>3</th>\n",
       "      <td>1</td>\n",
       "      <td>2</td>\n",
       "      <td>1</td>\n",
       "      <td>1</td>\n",
       "      <td>0</td>\n",
       "      <td>0</td>\n",
       "      <td>3</td>\n",
       "    </tr>\n",
       "    <tr>\n",
       "      <th>4</th>\n",
       "      <td>1</td>\n",
       "      <td>1</td>\n",
       "      <td>2</td>\n",
       "      <td>3</td>\n",
       "      <td>1</td>\n",
       "      <td>0</td>\n",
       "      <td>1</td>\n",
       "    </tr>\n",
       "    <tr>\n",
       "      <th>5</th>\n",
       "      <td>0</td>\n",
       "      <td>0</td>\n",
       "      <td>2</td>\n",
       "      <td>1</td>\n",
       "      <td>0</td>\n",
       "      <td>0</td>\n",
       "      <td>3</td>\n",
       "    </tr>\n",
       "  </tbody>\n",
       "</table>\n",
       "</div>"
      ],
      "text/plain": [
       "             Sex  Title  AgeGroup  Fare  Relatives  Embarked  Pclass\n",
       "PassengerId                                                         \n",
       "1              0      0         2     0          1         0       3\n",
       "2              1      1         2     3          1         1       1\n",
       "3              1      2         1     1          0         0       3\n",
       "4              1      1         2     3          1         0       1\n",
       "5              0      0         2     1          0         0       3"
      ]
     },
     "execution_count": 57,
     "metadata": {},
     "output_type": "execute_result"
    }
   ],
   "source": [
    "#map sex, embarked, and title to numeric\n",
    "ports = {\"S\": 0, 'C':1, 'Q':2}\n",
    "num_sex = {\"male\":0,\"female\":1}\n",
    "num_title = {\"Mr\": 0, \"Mrs\":1, \"Miss\": 2, \"Master\":3,\"Royalty\":4,\"Officer\":5}\n",
    "df4['Sex'] = df4['Sex'].map(num_sex)\n",
    "df4['Embarked'] = df4['Embarked'].map(ports)\n",
    "df4['Title'] = df4['Title'].map(num_title)\n",
    "df4\n",
    "df5 = df4.drop('Age_Class', axis =1)\n",
    "df5.head()"
   ]
  },
  {
   "cell_type": "code",
   "execution_count": 58,
   "metadata": {
    "colab": {
     "base_uri": "https://localhost:8080/",
     "height": 235
    },
    "colab_type": "code",
    "id": "1TFZjD6196o7",
    "outputId": "29c9c570-4a2a-40e3-ce2b-27ebe3637b24"
   },
   "outputs": [
    {
     "data": {
      "text/html": [
       "<div>\n",
       "<style scoped>\n",
       "    .dataframe tbody tr th:only-of-type {\n",
       "        vertical-align: middle;\n",
       "    }\n",
       "\n",
       "    .dataframe tbody tr th {\n",
       "        vertical-align: top;\n",
       "    }\n",
       "\n",
       "    .dataframe thead th {\n",
       "        text-align: right;\n",
       "    }\n",
       "</style>\n",
       "<table border=\"1\" class=\"dataframe\">\n",
       "  <thead>\n",
       "    <tr style=\"text-align: right;\">\n",
       "      <th></th>\n",
       "      <th>Sex</th>\n",
       "      <th>Title</th>\n",
       "      <th>AgeGroup</th>\n",
       "      <th>Fare</th>\n",
       "      <th>Relatives</th>\n",
       "      <th>Embarked</th>\n",
       "      <th>Pclass</th>\n",
       "    </tr>\n",
       "    <tr>\n",
       "      <th>PassengerId</th>\n",
       "      <th></th>\n",
       "      <th></th>\n",
       "      <th></th>\n",
       "      <th></th>\n",
       "      <th></th>\n",
       "      <th></th>\n",
       "      <th></th>\n",
       "    </tr>\n",
       "  </thead>\n",
       "  <tbody>\n",
       "    <tr>\n",
       "      <th>1</th>\n",
       "      <td>-0.743497</td>\n",
       "      <td>-0.715617</td>\n",
       "      <td>0.353004</td>\n",
       "      <td>-1.248109</td>\n",
       "      <td>0.073352</td>\n",
       "      <td>-0.603436</td>\n",
       "      <td>0.841916</td>\n",
       "    </tr>\n",
       "    <tr>\n",
       "      <th>2</th>\n",
       "      <td>1.344995</td>\n",
       "      <td>0.179930</td>\n",
       "      <td>0.353004</td>\n",
       "      <td>1.124265</td>\n",
       "      <td>0.073352</td>\n",
       "      <td>0.927373</td>\n",
       "      <td>-1.546098</td>\n",
       "    </tr>\n",
       "    <tr>\n",
       "      <th>3</th>\n",
       "      <td>1.344995</td>\n",
       "      <td>1.075478</td>\n",
       "      <td>-1.091002</td>\n",
       "      <td>-0.457318</td>\n",
       "      <td>-0.558346</td>\n",
       "      <td>-0.603436</td>\n",
       "      <td>0.841916</td>\n",
       "    </tr>\n",
       "    <tr>\n",
       "      <th>4</th>\n",
       "      <td>1.344995</td>\n",
       "      <td>0.179930</td>\n",
       "      <td>0.353004</td>\n",
       "      <td>1.124265</td>\n",
       "      <td>0.073352</td>\n",
       "      <td>-0.603436</td>\n",
       "      <td>-1.546098</td>\n",
       "    </tr>\n",
       "    <tr>\n",
       "      <th>5</th>\n",
       "      <td>-0.743497</td>\n",
       "      <td>-0.715617</td>\n",
       "      <td>0.353004</td>\n",
       "      <td>-0.457318</td>\n",
       "      <td>-0.558346</td>\n",
       "      <td>-0.603436</td>\n",
       "      <td>0.841916</td>\n",
       "    </tr>\n",
       "  </tbody>\n",
       "</table>\n",
       "</div>"
      ],
      "text/plain": [
       "                  Sex     Title  AgeGroup      Fare  Relatives  Embarked  \\\n",
       "PassengerId                                                                \n",
       "1           -0.743497 -0.715617  0.353004 -1.248109   0.073352 -0.603436   \n",
       "2            1.344995  0.179930  0.353004  1.124265   0.073352  0.927373   \n",
       "3            1.344995  1.075478 -1.091002 -0.457318  -0.558346 -0.603436   \n",
       "4            1.344995  0.179930  0.353004  1.124265   0.073352 -0.603436   \n",
       "5           -0.743497 -0.715617  0.353004 -0.457318  -0.558346 -0.603436   \n",
       "\n",
       "               Pclass  \n",
       "PassengerId            \n",
       "1            0.841916  \n",
       "2           -1.546098  \n",
       "3            0.841916  \n",
       "4           -1.546098  \n",
       "5            0.841916  "
      ]
     },
     "execution_count": 58,
     "metadata": {},
     "output_type": "execute_result"
    }
   ],
   "source": [
    "from sklearn.preprocessing import StandardScaler\n",
    "\n",
    "numeric_features = list(df5.select_dtypes(include=['int64', 'float64', 'int32']).columns)\n",
    "scaler = StandardScaler()\n",
    "df5[numeric_features] = scaler.fit_transform(df5[numeric_features])\n",
    "df5.head()"
   ]
  },
  {
   "cell_type": "code",
   "execution_count": 59,
   "metadata": {
    "colab": {},
    "colab_type": "code",
    "id": "QUS0digZ96o9"
   },
   "outputs": [],
   "source": [
    "# # One-Hot encoding\n",
    "# encode_features = list(df4.select_dtypes(include=['object']).columns)\n",
    "# for feature in encode_features:\n",
    "#     df4 = pd.concat([df4, pd.get_dummies(df4[feature], prefix=feature)],axis=1)\n",
    "#     df4.drop(feature, axis = 1, inplace=True)"
   ]
  },
  {
   "cell_type": "code",
   "execution_count": 61,
   "metadata": {
    "colab": {
     "base_uri": "https://localhost:8080/",
     "height": 51
    },
    "colab_type": "code",
    "id": "7rWrCZHC96o_",
    "outputId": "94ac1c21-0ddc-4020-e60d-9f732cf0878c"
   },
   "outputs": [
    {
     "ename": "KeyboardInterrupt",
     "evalue": "",
     "output_type": "error",
     "traceback": [
      "\u001b[1;31m---------------------------------------------------------------------------\u001b[0m",
      "\u001b[1;31mKeyboardInterrupt\u001b[0m                         Traceback (most recent call last)",
      "\u001b[1;32m<ipython-input-61-283f71f8481e>\u001b[0m in \u001b[0;36m<module>\u001b[1;34m\u001b[0m\n\u001b[0;32m     10\u001b[0m \u001b[1;33m\u001b[0m\u001b[0m\n\u001b[0;32m     11\u001b[0m \u001b[0mclf\u001b[0m\u001b[1;33m.\u001b[0m\u001b[0mfit\u001b[0m\u001b[1;33m(\u001b[0m\u001b[0mX\u001b[0m\u001b[1;33m,\u001b[0m \u001b[0my\u001b[0m\u001b[1;33m)\u001b[0m\u001b[1;33m\u001b[0m\u001b[1;33m\u001b[0m\u001b[0m\n\u001b[1;32m---> 12\u001b[1;33m \u001b[0mprint\u001b[0m\u001b[1;33m(\u001b[0m\u001b[1;34m'RandomForst, Train score:'\u001b[0m\u001b[1;33m,\u001b[0m \u001b[0mcross_val_score\u001b[0m\u001b[1;33m(\u001b[0m\u001b[0mclf\u001b[0m\u001b[1;33m,\u001b[0m \u001b[0mX_train\u001b[0m\u001b[1;33m,\u001b[0m \u001b[0my_train\u001b[0m\u001b[1;33m,\u001b[0m \u001b[0mcv\u001b[0m\u001b[1;33m=\u001b[0m\u001b[1;36m10\u001b[0m\u001b[1;33m)\u001b[0m\u001b[1;33m.\u001b[0m\u001b[0mmean\u001b[0m\u001b[1;33m(\u001b[0m\u001b[1;33m)\u001b[0m\u001b[1;33m)\u001b[0m\u001b[1;33m\u001b[0m\u001b[1;33m\u001b[0m\u001b[0m\n\u001b[0m\u001b[0;32m     13\u001b[0m \u001b[0mprint\u001b[0m\u001b[1;33m(\u001b[0m\u001b[1;34m'RandomForst, Test score:'\u001b[0m\u001b[1;33m,\u001b[0m \u001b[0mcross_val_score\u001b[0m\u001b[1;33m(\u001b[0m\u001b[0mclf\u001b[0m\u001b[1;33m,\u001b[0m \u001b[0mX_test\u001b[0m\u001b[1;33m,\u001b[0m \u001b[0my_test\u001b[0m\u001b[1;33m,\u001b[0m \u001b[0mcv\u001b[0m\u001b[1;33m=\u001b[0m\u001b[1;36m10\u001b[0m\u001b[1;33m)\u001b[0m\u001b[1;33m.\u001b[0m\u001b[0mmean\u001b[0m\u001b[1;33m(\u001b[0m\u001b[1;33m)\u001b[0m\u001b[1;33m)\u001b[0m\u001b[1;33m\u001b[0m\u001b[1;33m\u001b[0m\u001b[0m\n",
      "\u001b[1;32m~\\Anaconda3\\lib\\site-packages\\sklearn\\model_selection\\_validation.py\u001b[0m in \u001b[0;36mcross_val_score\u001b[1;34m(estimator, X, y, groups, scoring, cv, n_jobs, verbose, fit_params, pre_dispatch, error_score)\u001b[0m\n\u001b[0;32m    388\u001b[0m                                 \u001b[0mfit_params\u001b[0m\u001b[1;33m=\u001b[0m\u001b[0mfit_params\u001b[0m\u001b[1;33m,\u001b[0m\u001b[1;33m\u001b[0m\u001b[1;33m\u001b[0m\u001b[0m\n\u001b[0;32m    389\u001b[0m                                 \u001b[0mpre_dispatch\u001b[0m\u001b[1;33m=\u001b[0m\u001b[0mpre_dispatch\u001b[0m\u001b[1;33m,\u001b[0m\u001b[1;33m\u001b[0m\u001b[1;33m\u001b[0m\u001b[0m\n\u001b[1;32m--> 390\u001b[1;33m                                 error_score=error_score)\n\u001b[0m\u001b[0;32m    391\u001b[0m     \u001b[1;32mreturn\u001b[0m \u001b[0mcv_results\u001b[0m\u001b[1;33m[\u001b[0m\u001b[1;34m'test_score'\u001b[0m\u001b[1;33m]\u001b[0m\u001b[1;33m\u001b[0m\u001b[1;33m\u001b[0m\u001b[0m\n\u001b[0;32m    392\u001b[0m \u001b[1;33m\u001b[0m\u001b[0m\n",
      "\u001b[1;32m~\\Anaconda3\\lib\\site-packages\\sklearn\\model_selection\\_validation.py\u001b[0m in \u001b[0;36mcross_validate\u001b[1;34m(estimator, X, y, groups, scoring, cv, n_jobs, verbose, fit_params, pre_dispatch, return_train_score, return_estimator, error_score)\u001b[0m\n\u001b[0;32m    234\u001b[0m             \u001b[0mreturn_times\u001b[0m\u001b[1;33m=\u001b[0m\u001b[1;32mTrue\u001b[0m\u001b[1;33m,\u001b[0m \u001b[0mreturn_estimator\u001b[0m\u001b[1;33m=\u001b[0m\u001b[0mreturn_estimator\u001b[0m\u001b[1;33m,\u001b[0m\u001b[1;33m\u001b[0m\u001b[1;33m\u001b[0m\u001b[0m\n\u001b[0;32m    235\u001b[0m             error_score=error_score)\n\u001b[1;32m--> 236\u001b[1;33m         for train, test in cv.split(X, y, groups))\n\u001b[0m\u001b[0;32m    237\u001b[0m \u001b[1;33m\u001b[0m\u001b[0m\n\u001b[0;32m    238\u001b[0m     \u001b[0mzipped_scores\u001b[0m \u001b[1;33m=\u001b[0m \u001b[0mlist\u001b[0m\u001b[1;33m(\u001b[0m\u001b[0mzip\u001b[0m\u001b[1;33m(\u001b[0m\u001b[1;33m*\u001b[0m\u001b[0mscores\u001b[0m\u001b[1;33m)\u001b[0m\u001b[1;33m)\u001b[0m\u001b[1;33m\u001b[0m\u001b[1;33m\u001b[0m\u001b[0m\n",
      "\u001b[1;32m~\\Anaconda3\\lib\\site-packages\\joblib\\parallel.py\u001b[0m in \u001b[0;36m__call__\u001b[1;34m(self, iterable)\u001b[0m\n\u001b[0;32m   1005\u001b[0m                 \u001b[0mself\u001b[0m\u001b[1;33m.\u001b[0m\u001b[0m_iterating\u001b[0m \u001b[1;33m=\u001b[0m \u001b[0mself\u001b[0m\u001b[1;33m.\u001b[0m\u001b[0m_original_iterator\u001b[0m \u001b[1;32mis\u001b[0m \u001b[1;32mnot\u001b[0m \u001b[1;32mNone\u001b[0m\u001b[1;33m\u001b[0m\u001b[1;33m\u001b[0m\u001b[0m\n\u001b[0;32m   1006\u001b[0m \u001b[1;33m\u001b[0m\u001b[0m\n\u001b[1;32m-> 1007\u001b[1;33m             \u001b[1;32mwhile\u001b[0m \u001b[0mself\u001b[0m\u001b[1;33m.\u001b[0m\u001b[0mdispatch_one_batch\u001b[0m\u001b[1;33m(\u001b[0m\u001b[0miterator\u001b[0m\u001b[1;33m)\u001b[0m\u001b[1;33m:\u001b[0m\u001b[1;33m\u001b[0m\u001b[1;33m\u001b[0m\u001b[0m\n\u001b[0m\u001b[0;32m   1008\u001b[0m                 \u001b[1;32mpass\u001b[0m\u001b[1;33m\u001b[0m\u001b[1;33m\u001b[0m\u001b[0m\n\u001b[0;32m   1009\u001b[0m \u001b[1;33m\u001b[0m\u001b[0m\n",
      "\u001b[1;32m~\\Anaconda3\\lib\\site-packages\\joblib\\parallel.py\u001b[0m in \u001b[0;36mdispatch_one_batch\u001b[1;34m(self, iterator)\u001b[0m\n\u001b[0;32m    833\u001b[0m                 \u001b[1;32mreturn\u001b[0m \u001b[1;32mFalse\u001b[0m\u001b[1;33m\u001b[0m\u001b[1;33m\u001b[0m\u001b[0m\n\u001b[0;32m    834\u001b[0m             \u001b[1;32melse\u001b[0m\u001b[1;33m:\u001b[0m\u001b[1;33m\u001b[0m\u001b[1;33m\u001b[0m\u001b[0m\n\u001b[1;32m--> 835\u001b[1;33m                 \u001b[0mself\u001b[0m\u001b[1;33m.\u001b[0m\u001b[0m_dispatch\u001b[0m\u001b[1;33m(\u001b[0m\u001b[0mtasks\u001b[0m\u001b[1;33m)\u001b[0m\u001b[1;33m\u001b[0m\u001b[1;33m\u001b[0m\u001b[0m\n\u001b[0m\u001b[0;32m    836\u001b[0m                 \u001b[1;32mreturn\u001b[0m \u001b[1;32mTrue\u001b[0m\u001b[1;33m\u001b[0m\u001b[1;33m\u001b[0m\u001b[0m\n\u001b[0;32m    837\u001b[0m \u001b[1;33m\u001b[0m\u001b[0m\n",
      "\u001b[1;32m~\\Anaconda3\\lib\\site-packages\\joblib\\parallel.py\u001b[0m in \u001b[0;36m_dispatch\u001b[1;34m(self, batch)\u001b[0m\n\u001b[0;32m    752\u001b[0m         \u001b[1;32mwith\u001b[0m \u001b[0mself\u001b[0m\u001b[1;33m.\u001b[0m\u001b[0m_lock\u001b[0m\u001b[1;33m:\u001b[0m\u001b[1;33m\u001b[0m\u001b[1;33m\u001b[0m\u001b[0m\n\u001b[0;32m    753\u001b[0m             \u001b[0mjob_idx\u001b[0m \u001b[1;33m=\u001b[0m \u001b[0mlen\u001b[0m\u001b[1;33m(\u001b[0m\u001b[0mself\u001b[0m\u001b[1;33m.\u001b[0m\u001b[0m_jobs\u001b[0m\u001b[1;33m)\u001b[0m\u001b[1;33m\u001b[0m\u001b[1;33m\u001b[0m\u001b[0m\n\u001b[1;32m--> 754\u001b[1;33m             \u001b[0mjob\u001b[0m \u001b[1;33m=\u001b[0m \u001b[0mself\u001b[0m\u001b[1;33m.\u001b[0m\u001b[0m_backend\u001b[0m\u001b[1;33m.\u001b[0m\u001b[0mapply_async\u001b[0m\u001b[1;33m(\u001b[0m\u001b[0mbatch\u001b[0m\u001b[1;33m,\u001b[0m \u001b[0mcallback\u001b[0m\u001b[1;33m=\u001b[0m\u001b[0mcb\u001b[0m\u001b[1;33m)\u001b[0m\u001b[1;33m\u001b[0m\u001b[1;33m\u001b[0m\u001b[0m\n\u001b[0m\u001b[0;32m    755\u001b[0m             \u001b[1;31m# A job can complete so quickly than its callback is\u001b[0m\u001b[1;33m\u001b[0m\u001b[1;33m\u001b[0m\u001b[1;33m\u001b[0m\u001b[0m\n\u001b[0;32m    756\u001b[0m             \u001b[1;31m# called before we get here, causing self._jobs to\u001b[0m\u001b[1;33m\u001b[0m\u001b[1;33m\u001b[0m\u001b[1;33m\u001b[0m\u001b[0m\n",
      "\u001b[1;32m~\\Anaconda3\\lib\\site-packages\\joblib\\_parallel_backends.py\u001b[0m in \u001b[0;36mapply_async\u001b[1;34m(self, func, callback)\u001b[0m\n\u001b[0;32m    207\u001b[0m     \u001b[1;32mdef\u001b[0m \u001b[0mapply_async\u001b[0m\u001b[1;33m(\u001b[0m\u001b[0mself\u001b[0m\u001b[1;33m,\u001b[0m \u001b[0mfunc\u001b[0m\u001b[1;33m,\u001b[0m \u001b[0mcallback\u001b[0m\u001b[1;33m=\u001b[0m\u001b[1;32mNone\u001b[0m\u001b[1;33m)\u001b[0m\u001b[1;33m:\u001b[0m\u001b[1;33m\u001b[0m\u001b[1;33m\u001b[0m\u001b[0m\n\u001b[0;32m    208\u001b[0m         \u001b[1;34m\"\"\"Schedule a func to be run\"\"\"\u001b[0m\u001b[1;33m\u001b[0m\u001b[1;33m\u001b[0m\u001b[0m\n\u001b[1;32m--> 209\u001b[1;33m         \u001b[0mresult\u001b[0m \u001b[1;33m=\u001b[0m \u001b[0mImmediateResult\u001b[0m\u001b[1;33m(\u001b[0m\u001b[0mfunc\u001b[0m\u001b[1;33m)\u001b[0m\u001b[1;33m\u001b[0m\u001b[1;33m\u001b[0m\u001b[0m\n\u001b[0m\u001b[0;32m    210\u001b[0m         \u001b[1;32mif\u001b[0m \u001b[0mcallback\u001b[0m\u001b[1;33m:\u001b[0m\u001b[1;33m\u001b[0m\u001b[1;33m\u001b[0m\u001b[0m\n\u001b[0;32m    211\u001b[0m             \u001b[0mcallback\u001b[0m\u001b[1;33m(\u001b[0m\u001b[0mresult\u001b[0m\u001b[1;33m)\u001b[0m\u001b[1;33m\u001b[0m\u001b[1;33m\u001b[0m\u001b[0m\n",
      "\u001b[1;32m~\\Anaconda3\\lib\\site-packages\\joblib\\_parallel_backends.py\u001b[0m in \u001b[0;36m__init__\u001b[1;34m(self, batch)\u001b[0m\n\u001b[0;32m    588\u001b[0m         \u001b[1;31m# Don't delay the application, to avoid keeping the input\u001b[0m\u001b[1;33m\u001b[0m\u001b[1;33m\u001b[0m\u001b[1;33m\u001b[0m\u001b[0m\n\u001b[0;32m    589\u001b[0m         \u001b[1;31m# arguments in memory\u001b[0m\u001b[1;33m\u001b[0m\u001b[1;33m\u001b[0m\u001b[1;33m\u001b[0m\u001b[0m\n\u001b[1;32m--> 590\u001b[1;33m         \u001b[0mself\u001b[0m\u001b[1;33m.\u001b[0m\u001b[0mresults\u001b[0m \u001b[1;33m=\u001b[0m \u001b[0mbatch\u001b[0m\u001b[1;33m(\u001b[0m\u001b[1;33m)\u001b[0m\u001b[1;33m\u001b[0m\u001b[1;33m\u001b[0m\u001b[0m\n\u001b[0m\u001b[0;32m    591\u001b[0m \u001b[1;33m\u001b[0m\u001b[0m\n\u001b[0;32m    592\u001b[0m     \u001b[1;32mdef\u001b[0m \u001b[0mget\u001b[0m\u001b[1;33m(\u001b[0m\u001b[0mself\u001b[0m\u001b[1;33m)\u001b[0m\u001b[1;33m:\u001b[0m\u001b[1;33m\u001b[0m\u001b[1;33m\u001b[0m\u001b[0m\n",
      "\u001b[1;32m~\\Anaconda3\\lib\\site-packages\\joblib\\parallel.py\u001b[0m in \u001b[0;36m__call__\u001b[1;34m(self)\u001b[0m\n\u001b[0;32m    254\u001b[0m         \u001b[1;32mwith\u001b[0m \u001b[0mparallel_backend\u001b[0m\u001b[1;33m(\u001b[0m\u001b[0mself\u001b[0m\u001b[1;33m.\u001b[0m\u001b[0m_backend\u001b[0m\u001b[1;33m,\u001b[0m \u001b[0mn_jobs\u001b[0m\u001b[1;33m=\u001b[0m\u001b[0mself\u001b[0m\u001b[1;33m.\u001b[0m\u001b[0m_n_jobs\u001b[0m\u001b[1;33m)\u001b[0m\u001b[1;33m:\u001b[0m\u001b[1;33m\u001b[0m\u001b[1;33m\u001b[0m\u001b[0m\n\u001b[0;32m    255\u001b[0m             return [func(*args, **kwargs)\n\u001b[1;32m--> 256\u001b[1;33m                     for func, args, kwargs in self.items]\n\u001b[0m\u001b[0;32m    257\u001b[0m \u001b[1;33m\u001b[0m\u001b[0m\n\u001b[0;32m    258\u001b[0m     \u001b[1;32mdef\u001b[0m \u001b[0m__len__\u001b[0m\u001b[1;33m(\u001b[0m\u001b[0mself\u001b[0m\u001b[1;33m)\u001b[0m\u001b[1;33m:\u001b[0m\u001b[1;33m\u001b[0m\u001b[1;33m\u001b[0m\u001b[0m\n",
      "\u001b[1;32m~\\Anaconda3\\lib\\site-packages\\joblib\\parallel.py\u001b[0m in \u001b[0;36m<listcomp>\u001b[1;34m(.0)\u001b[0m\n\u001b[0;32m    254\u001b[0m         \u001b[1;32mwith\u001b[0m \u001b[0mparallel_backend\u001b[0m\u001b[1;33m(\u001b[0m\u001b[0mself\u001b[0m\u001b[1;33m.\u001b[0m\u001b[0m_backend\u001b[0m\u001b[1;33m,\u001b[0m \u001b[0mn_jobs\u001b[0m\u001b[1;33m=\u001b[0m\u001b[0mself\u001b[0m\u001b[1;33m.\u001b[0m\u001b[0m_n_jobs\u001b[0m\u001b[1;33m)\u001b[0m\u001b[1;33m:\u001b[0m\u001b[1;33m\u001b[0m\u001b[1;33m\u001b[0m\u001b[0m\n\u001b[0;32m    255\u001b[0m             return [func(*args, **kwargs)\n\u001b[1;32m--> 256\u001b[1;33m                     for func, args, kwargs in self.items]\n\u001b[0m\u001b[0;32m    257\u001b[0m \u001b[1;33m\u001b[0m\u001b[0m\n\u001b[0;32m    258\u001b[0m     \u001b[1;32mdef\u001b[0m \u001b[0m__len__\u001b[0m\u001b[1;33m(\u001b[0m\u001b[0mself\u001b[0m\u001b[1;33m)\u001b[0m\u001b[1;33m:\u001b[0m\u001b[1;33m\u001b[0m\u001b[1;33m\u001b[0m\u001b[0m\n",
      "\u001b[1;32m~\\Anaconda3\\lib\\site-packages\\sklearn\\model_selection\\_validation.py\u001b[0m in \u001b[0;36m_fit_and_score\u001b[1;34m(estimator, X, y, scorer, train, test, verbose, parameters, fit_params, return_train_score, return_parameters, return_n_test_samples, return_times, return_estimator, error_score)\u001b[0m\n\u001b[0;32m    513\u001b[0m             \u001b[0mestimator\u001b[0m\u001b[1;33m.\u001b[0m\u001b[0mfit\u001b[0m\u001b[1;33m(\u001b[0m\u001b[0mX_train\u001b[0m\u001b[1;33m,\u001b[0m \u001b[1;33m**\u001b[0m\u001b[0mfit_params\u001b[0m\u001b[1;33m)\u001b[0m\u001b[1;33m\u001b[0m\u001b[1;33m\u001b[0m\u001b[0m\n\u001b[0;32m    514\u001b[0m         \u001b[1;32melse\u001b[0m\u001b[1;33m:\u001b[0m\u001b[1;33m\u001b[0m\u001b[1;33m\u001b[0m\u001b[0m\n\u001b[1;32m--> 515\u001b[1;33m             \u001b[0mestimator\u001b[0m\u001b[1;33m.\u001b[0m\u001b[0mfit\u001b[0m\u001b[1;33m(\u001b[0m\u001b[0mX_train\u001b[0m\u001b[1;33m,\u001b[0m \u001b[0my_train\u001b[0m\u001b[1;33m,\u001b[0m \u001b[1;33m**\u001b[0m\u001b[0mfit_params\u001b[0m\u001b[1;33m)\u001b[0m\u001b[1;33m\u001b[0m\u001b[1;33m\u001b[0m\u001b[0m\n\u001b[0m\u001b[0;32m    516\u001b[0m \u001b[1;33m\u001b[0m\u001b[0m\n\u001b[0;32m    517\u001b[0m     \u001b[1;32mexcept\u001b[0m \u001b[0mException\u001b[0m \u001b[1;32mas\u001b[0m \u001b[0me\u001b[0m\u001b[1;33m:\u001b[0m\u001b[1;33m\u001b[0m\u001b[1;33m\u001b[0m\u001b[0m\n",
      "\u001b[1;32m~\\Anaconda3\\lib\\site-packages\\sklearn\\ensemble\\_forest.py\u001b[0m in \u001b[0;36mfit\u001b[1;34m(self, X, y, sample_weight)\u001b[0m\n\u001b[0;32m    381\u001b[0m                     \u001b[0mverbose\u001b[0m\u001b[1;33m=\u001b[0m\u001b[0mself\u001b[0m\u001b[1;33m.\u001b[0m\u001b[0mverbose\u001b[0m\u001b[1;33m,\u001b[0m \u001b[0mclass_weight\u001b[0m\u001b[1;33m=\u001b[0m\u001b[0mself\u001b[0m\u001b[1;33m.\u001b[0m\u001b[0mclass_weight\u001b[0m\u001b[1;33m,\u001b[0m\u001b[1;33m\u001b[0m\u001b[1;33m\u001b[0m\u001b[0m\n\u001b[0;32m    382\u001b[0m                     n_samples_bootstrap=n_samples_bootstrap)\n\u001b[1;32m--> 383\u001b[1;33m                 for i, t in enumerate(trees))\n\u001b[0m\u001b[0;32m    384\u001b[0m \u001b[1;33m\u001b[0m\u001b[0m\n\u001b[0;32m    385\u001b[0m             \u001b[1;31m# Collect newly grown trees\u001b[0m\u001b[1;33m\u001b[0m\u001b[1;33m\u001b[0m\u001b[1;33m\u001b[0m\u001b[0m\n",
      "\u001b[1;32m~\\Anaconda3\\lib\\site-packages\\joblib\\parallel.py\u001b[0m in \u001b[0;36m__call__\u001b[1;34m(self, iterable)\u001b[0m\n\u001b[0;32m   1005\u001b[0m                 \u001b[0mself\u001b[0m\u001b[1;33m.\u001b[0m\u001b[0m_iterating\u001b[0m \u001b[1;33m=\u001b[0m \u001b[0mself\u001b[0m\u001b[1;33m.\u001b[0m\u001b[0m_original_iterator\u001b[0m \u001b[1;32mis\u001b[0m \u001b[1;32mnot\u001b[0m \u001b[1;32mNone\u001b[0m\u001b[1;33m\u001b[0m\u001b[1;33m\u001b[0m\u001b[0m\n\u001b[0;32m   1006\u001b[0m \u001b[1;33m\u001b[0m\u001b[0m\n\u001b[1;32m-> 1007\u001b[1;33m             \u001b[1;32mwhile\u001b[0m \u001b[0mself\u001b[0m\u001b[1;33m.\u001b[0m\u001b[0mdispatch_one_batch\u001b[0m\u001b[1;33m(\u001b[0m\u001b[0miterator\u001b[0m\u001b[1;33m)\u001b[0m\u001b[1;33m:\u001b[0m\u001b[1;33m\u001b[0m\u001b[1;33m\u001b[0m\u001b[0m\n\u001b[0m\u001b[0;32m   1008\u001b[0m                 \u001b[1;32mpass\u001b[0m\u001b[1;33m\u001b[0m\u001b[1;33m\u001b[0m\u001b[0m\n\u001b[0;32m   1009\u001b[0m \u001b[1;33m\u001b[0m\u001b[0m\n",
      "\u001b[1;32m~\\Anaconda3\\lib\\site-packages\\joblib\\parallel.py\u001b[0m in \u001b[0;36mdispatch_one_batch\u001b[1;34m(self, iterator)\u001b[0m\n\u001b[0;32m    833\u001b[0m                 \u001b[1;32mreturn\u001b[0m \u001b[1;32mFalse\u001b[0m\u001b[1;33m\u001b[0m\u001b[1;33m\u001b[0m\u001b[0m\n\u001b[0;32m    834\u001b[0m             \u001b[1;32melse\u001b[0m\u001b[1;33m:\u001b[0m\u001b[1;33m\u001b[0m\u001b[1;33m\u001b[0m\u001b[0m\n\u001b[1;32m--> 835\u001b[1;33m                 \u001b[0mself\u001b[0m\u001b[1;33m.\u001b[0m\u001b[0m_dispatch\u001b[0m\u001b[1;33m(\u001b[0m\u001b[0mtasks\u001b[0m\u001b[1;33m)\u001b[0m\u001b[1;33m\u001b[0m\u001b[1;33m\u001b[0m\u001b[0m\n\u001b[0m\u001b[0;32m    836\u001b[0m                 \u001b[1;32mreturn\u001b[0m \u001b[1;32mTrue\u001b[0m\u001b[1;33m\u001b[0m\u001b[1;33m\u001b[0m\u001b[0m\n\u001b[0;32m    837\u001b[0m \u001b[1;33m\u001b[0m\u001b[0m\n",
      "\u001b[1;32m~\\Anaconda3\\lib\\site-packages\\joblib\\parallel.py\u001b[0m in \u001b[0;36m_dispatch\u001b[1;34m(self, batch)\u001b[0m\n\u001b[0;32m    752\u001b[0m         \u001b[1;32mwith\u001b[0m \u001b[0mself\u001b[0m\u001b[1;33m.\u001b[0m\u001b[0m_lock\u001b[0m\u001b[1;33m:\u001b[0m\u001b[1;33m\u001b[0m\u001b[1;33m\u001b[0m\u001b[0m\n\u001b[0;32m    753\u001b[0m             \u001b[0mjob_idx\u001b[0m \u001b[1;33m=\u001b[0m \u001b[0mlen\u001b[0m\u001b[1;33m(\u001b[0m\u001b[0mself\u001b[0m\u001b[1;33m.\u001b[0m\u001b[0m_jobs\u001b[0m\u001b[1;33m)\u001b[0m\u001b[1;33m\u001b[0m\u001b[1;33m\u001b[0m\u001b[0m\n\u001b[1;32m--> 754\u001b[1;33m             \u001b[0mjob\u001b[0m \u001b[1;33m=\u001b[0m \u001b[0mself\u001b[0m\u001b[1;33m.\u001b[0m\u001b[0m_backend\u001b[0m\u001b[1;33m.\u001b[0m\u001b[0mapply_async\u001b[0m\u001b[1;33m(\u001b[0m\u001b[0mbatch\u001b[0m\u001b[1;33m,\u001b[0m \u001b[0mcallback\u001b[0m\u001b[1;33m=\u001b[0m\u001b[0mcb\u001b[0m\u001b[1;33m)\u001b[0m\u001b[1;33m\u001b[0m\u001b[1;33m\u001b[0m\u001b[0m\n\u001b[0m\u001b[0;32m    755\u001b[0m             \u001b[1;31m# A job can complete so quickly than its callback is\u001b[0m\u001b[1;33m\u001b[0m\u001b[1;33m\u001b[0m\u001b[1;33m\u001b[0m\u001b[0m\n\u001b[0;32m    756\u001b[0m             \u001b[1;31m# called before we get here, causing self._jobs to\u001b[0m\u001b[1;33m\u001b[0m\u001b[1;33m\u001b[0m\u001b[1;33m\u001b[0m\u001b[0m\n",
      "\u001b[1;32m~\\Anaconda3\\lib\\site-packages\\joblib\\_parallel_backends.py\u001b[0m in \u001b[0;36mapply_async\u001b[1;34m(self, func, callback)\u001b[0m\n\u001b[0;32m    207\u001b[0m     \u001b[1;32mdef\u001b[0m \u001b[0mapply_async\u001b[0m\u001b[1;33m(\u001b[0m\u001b[0mself\u001b[0m\u001b[1;33m,\u001b[0m \u001b[0mfunc\u001b[0m\u001b[1;33m,\u001b[0m \u001b[0mcallback\u001b[0m\u001b[1;33m=\u001b[0m\u001b[1;32mNone\u001b[0m\u001b[1;33m)\u001b[0m\u001b[1;33m:\u001b[0m\u001b[1;33m\u001b[0m\u001b[1;33m\u001b[0m\u001b[0m\n\u001b[0;32m    208\u001b[0m         \u001b[1;34m\"\"\"Schedule a func to be run\"\"\"\u001b[0m\u001b[1;33m\u001b[0m\u001b[1;33m\u001b[0m\u001b[0m\n\u001b[1;32m--> 209\u001b[1;33m         \u001b[0mresult\u001b[0m \u001b[1;33m=\u001b[0m \u001b[0mImmediateResult\u001b[0m\u001b[1;33m(\u001b[0m\u001b[0mfunc\u001b[0m\u001b[1;33m)\u001b[0m\u001b[1;33m\u001b[0m\u001b[1;33m\u001b[0m\u001b[0m\n\u001b[0m\u001b[0;32m    210\u001b[0m         \u001b[1;32mif\u001b[0m \u001b[0mcallback\u001b[0m\u001b[1;33m:\u001b[0m\u001b[1;33m\u001b[0m\u001b[1;33m\u001b[0m\u001b[0m\n\u001b[0;32m    211\u001b[0m             \u001b[0mcallback\u001b[0m\u001b[1;33m(\u001b[0m\u001b[0mresult\u001b[0m\u001b[1;33m)\u001b[0m\u001b[1;33m\u001b[0m\u001b[1;33m\u001b[0m\u001b[0m\n",
      "\u001b[1;32m~\\Anaconda3\\lib\\site-packages\\joblib\\_parallel_backends.py\u001b[0m in \u001b[0;36m__init__\u001b[1;34m(self, batch)\u001b[0m\n\u001b[0;32m    588\u001b[0m         \u001b[1;31m# Don't delay the application, to avoid keeping the input\u001b[0m\u001b[1;33m\u001b[0m\u001b[1;33m\u001b[0m\u001b[1;33m\u001b[0m\u001b[0m\n\u001b[0;32m    589\u001b[0m         \u001b[1;31m# arguments in memory\u001b[0m\u001b[1;33m\u001b[0m\u001b[1;33m\u001b[0m\u001b[1;33m\u001b[0m\u001b[0m\n\u001b[1;32m--> 590\u001b[1;33m         \u001b[0mself\u001b[0m\u001b[1;33m.\u001b[0m\u001b[0mresults\u001b[0m \u001b[1;33m=\u001b[0m \u001b[0mbatch\u001b[0m\u001b[1;33m(\u001b[0m\u001b[1;33m)\u001b[0m\u001b[1;33m\u001b[0m\u001b[1;33m\u001b[0m\u001b[0m\n\u001b[0m\u001b[0;32m    591\u001b[0m \u001b[1;33m\u001b[0m\u001b[0m\n\u001b[0;32m    592\u001b[0m     \u001b[1;32mdef\u001b[0m \u001b[0mget\u001b[0m\u001b[1;33m(\u001b[0m\u001b[0mself\u001b[0m\u001b[1;33m)\u001b[0m\u001b[1;33m:\u001b[0m\u001b[1;33m\u001b[0m\u001b[1;33m\u001b[0m\u001b[0m\n",
      "\u001b[1;32m~\\Anaconda3\\lib\\site-packages\\joblib\\parallel.py\u001b[0m in \u001b[0;36m__call__\u001b[1;34m(self)\u001b[0m\n\u001b[0;32m    254\u001b[0m         \u001b[1;32mwith\u001b[0m \u001b[0mparallel_backend\u001b[0m\u001b[1;33m(\u001b[0m\u001b[0mself\u001b[0m\u001b[1;33m.\u001b[0m\u001b[0m_backend\u001b[0m\u001b[1;33m,\u001b[0m \u001b[0mn_jobs\u001b[0m\u001b[1;33m=\u001b[0m\u001b[0mself\u001b[0m\u001b[1;33m.\u001b[0m\u001b[0m_n_jobs\u001b[0m\u001b[1;33m)\u001b[0m\u001b[1;33m:\u001b[0m\u001b[1;33m\u001b[0m\u001b[1;33m\u001b[0m\u001b[0m\n\u001b[0;32m    255\u001b[0m             return [func(*args, **kwargs)\n\u001b[1;32m--> 256\u001b[1;33m                     for func, args, kwargs in self.items]\n\u001b[0m\u001b[0;32m    257\u001b[0m \u001b[1;33m\u001b[0m\u001b[0m\n\u001b[0;32m    258\u001b[0m     \u001b[1;32mdef\u001b[0m \u001b[0m__len__\u001b[0m\u001b[1;33m(\u001b[0m\u001b[0mself\u001b[0m\u001b[1;33m)\u001b[0m\u001b[1;33m:\u001b[0m\u001b[1;33m\u001b[0m\u001b[1;33m\u001b[0m\u001b[0m\n",
      "\u001b[1;32m~\\Anaconda3\\lib\\site-packages\\joblib\\parallel.py\u001b[0m in \u001b[0;36m<listcomp>\u001b[1;34m(.0)\u001b[0m\n\u001b[0;32m    254\u001b[0m         \u001b[1;32mwith\u001b[0m \u001b[0mparallel_backend\u001b[0m\u001b[1;33m(\u001b[0m\u001b[0mself\u001b[0m\u001b[1;33m.\u001b[0m\u001b[0m_backend\u001b[0m\u001b[1;33m,\u001b[0m \u001b[0mn_jobs\u001b[0m\u001b[1;33m=\u001b[0m\u001b[0mself\u001b[0m\u001b[1;33m.\u001b[0m\u001b[0m_n_jobs\u001b[0m\u001b[1;33m)\u001b[0m\u001b[1;33m:\u001b[0m\u001b[1;33m\u001b[0m\u001b[1;33m\u001b[0m\u001b[0m\n\u001b[0;32m    255\u001b[0m             return [func(*args, **kwargs)\n\u001b[1;32m--> 256\u001b[1;33m                     for func, args, kwargs in self.items]\n\u001b[0m\u001b[0;32m    257\u001b[0m \u001b[1;33m\u001b[0m\u001b[0m\n\u001b[0;32m    258\u001b[0m     \u001b[1;32mdef\u001b[0m \u001b[0m__len__\u001b[0m\u001b[1;33m(\u001b[0m\u001b[0mself\u001b[0m\u001b[1;33m)\u001b[0m\u001b[1;33m:\u001b[0m\u001b[1;33m\u001b[0m\u001b[1;33m\u001b[0m\u001b[0m\n",
      "\u001b[1;32m~\\Anaconda3\\lib\\site-packages\\sklearn\\ensemble\\_forest.py\u001b[0m in \u001b[0;36m_parallel_build_trees\u001b[1;34m(tree, forest, X, y, sample_weight, tree_idx, n_trees, verbose, class_weight, n_samples_bootstrap)\u001b[0m\n\u001b[0;32m    165\u001b[0m         \u001b[0mtree\u001b[0m\u001b[1;33m.\u001b[0m\u001b[0mfit\u001b[0m\u001b[1;33m(\u001b[0m\u001b[0mX\u001b[0m\u001b[1;33m,\u001b[0m \u001b[0my\u001b[0m\u001b[1;33m,\u001b[0m \u001b[0msample_weight\u001b[0m\u001b[1;33m=\u001b[0m\u001b[0mcurr_sample_weight\u001b[0m\u001b[1;33m,\u001b[0m \u001b[0mcheck_input\u001b[0m\u001b[1;33m=\u001b[0m\u001b[1;32mFalse\u001b[0m\u001b[1;33m)\u001b[0m\u001b[1;33m\u001b[0m\u001b[1;33m\u001b[0m\u001b[0m\n\u001b[0;32m    166\u001b[0m     \u001b[1;32melse\u001b[0m\u001b[1;33m:\u001b[0m\u001b[1;33m\u001b[0m\u001b[1;33m\u001b[0m\u001b[0m\n\u001b[1;32m--> 167\u001b[1;33m         \u001b[0mtree\u001b[0m\u001b[1;33m.\u001b[0m\u001b[0mfit\u001b[0m\u001b[1;33m(\u001b[0m\u001b[0mX\u001b[0m\u001b[1;33m,\u001b[0m \u001b[0my\u001b[0m\u001b[1;33m,\u001b[0m \u001b[0msample_weight\u001b[0m\u001b[1;33m=\u001b[0m\u001b[0msample_weight\u001b[0m\u001b[1;33m,\u001b[0m \u001b[0mcheck_input\u001b[0m\u001b[1;33m=\u001b[0m\u001b[1;32mFalse\u001b[0m\u001b[1;33m)\u001b[0m\u001b[1;33m\u001b[0m\u001b[1;33m\u001b[0m\u001b[0m\n\u001b[0m\u001b[0;32m    168\u001b[0m \u001b[1;33m\u001b[0m\u001b[0m\n\u001b[0;32m    169\u001b[0m     \u001b[1;32mreturn\u001b[0m \u001b[0mtree\u001b[0m\u001b[1;33m\u001b[0m\u001b[1;33m\u001b[0m\u001b[0m\n",
      "\u001b[1;32m~\\Anaconda3\\lib\\site-packages\\sklearn\\tree\\_classes.py\u001b[0m in \u001b[0;36mfit\u001b[1;34m(self, X, y, sample_weight, check_input, X_idx_sorted)\u001b[0m\n\u001b[0;32m    875\u001b[0m             \u001b[0msample_weight\u001b[0m\u001b[1;33m=\u001b[0m\u001b[0msample_weight\u001b[0m\u001b[1;33m,\u001b[0m\u001b[1;33m\u001b[0m\u001b[1;33m\u001b[0m\u001b[0m\n\u001b[0;32m    876\u001b[0m             \u001b[0mcheck_input\u001b[0m\u001b[1;33m=\u001b[0m\u001b[0mcheck_input\u001b[0m\u001b[1;33m,\u001b[0m\u001b[1;33m\u001b[0m\u001b[1;33m\u001b[0m\u001b[0m\n\u001b[1;32m--> 877\u001b[1;33m             X_idx_sorted=X_idx_sorted)\n\u001b[0m\u001b[0;32m    878\u001b[0m         \u001b[1;32mreturn\u001b[0m \u001b[0mself\u001b[0m\u001b[1;33m\u001b[0m\u001b[1;33m\u001b[0m\u001b[0m\n\u001b[0;32m    879\u001b[0m \u001b[1;33m\u001b[0m\u001b[0m\n",
      "\u001b[1;32m~\\Anaconda3\\lib\\site-packages\\sklearn\\tree\\_classes.py\u001b[0m in \u001b[0;36mfit\u001b[1;34m(self, X, y, sample_weight, check_input, X_idx_sorted)\u001b[0m\n\u001b[0;32m    171\u001b[0m \u001b[1;33m\u001b[0m\u001b[0m\n\u001b[0;32m    172\u001b[0m         \u001b[1;32mif\u001b[0m \u001b[0mis_classification\u001b[0m\u001b[1;33m:\u001b[0m\u001b[1;33m\u001b[0m\u001b[1;33m\u001b[0m\u001b[0m\n\u001b[1;32m--> 173\u001b[1;33m             \u001b[0mcheck_classification_targets\u001b[0m\u001b[1;33m(\u001b[0m\u001b[0my\u001b[0m\u001b[1;33m)\u001b[0m\u001b[1;33m\u001b[0m\u001b[1;33m\u001b[0m\u001b[0m\n\u001b[0m\u001b[0;32m    174\u001b[0m             \u001b[0my\u001b[0m \u001b[1;33m=\u001b[0m \u001b[0mnp\u001b[0m\u001b[1;33m.\u001b[0m\u001b[0mcopy\u001b[0m\u001b[1;33m(\u001b[0m\u001b[0my\u001b[0m\u001b[1;33m)\u001b[0m\u001b[1;33m\u001b[0m\u001b[1;33m\u001b[0m\u001b[0m\n\u001b[0;32m    175\u001b[0m \u001b[1;33m\u001b[0m\u001b[0m\n",
      "\u001b[1;32m~\\Anaconda3\\lib\\site-packages\\sklearn\\utils\\multiclass.py\u001b[0m in \u001b[0;36mcheck_classification_targets\u001b[1;34m(y)\u001b[0m\n\u001b[0;32m    164\u001b[0m     \u001b[0my\u001b[0m \u001b[1;33m:\u001b[0m \u001b[0marray\u001b[0m\u001b[1;33m-\u001b[0m\u001b[0mlike\u001b[0m\u001b[1;33m\u001b[0m\u001b[1;33m\u001b[0m\u001b[0m\n\u001b[0;32m    165\u001b[0m     \"\"\"\n\u001b[1;32m--> 166\u001b[1;33m     \u001b[0my_type\u001b[0m \u001b[1;33m=\u001b[0m \u001b[0mtype_of_target\u001b[0m\u001b[1;33m(\u001b[0m\u001b[0my\u001b[0m\u001b[1;33m)\u001b[0m\u001b[1;33m\u001b[0m\u001b[1;33m\u001b[0m\u001b[0m\n\u001b[0m\u001b[0;32m    167\u001b[0m     if y_type not in ['binary', 'multiclass', 'multiclass-multioutput',\n\u001b[0;32m    168\u001b[0m                       'multilabel-indicator', 'multilabel-sequences']:\n",
      "\u001b[1;32m~\\Anaconda3\\lib\\site-packages\\sklearn\\utils\\multiclass.py\u001b[0m in \u001b[0;36mtype_of_target\u001b[1;34m(y)\u001b[0m\n\u001b[0;32m    285\u001b[0m         \u001b[1;32mreturn\u001b[0m \u001b[1;34m'continuous'\u001b[0m \u001b[1;33m+\u001b[0m \u001b[0msuffix\u001b[0m\u001b[1;33m\u001b[0m\u001b[1;33m\u001b[0m\u001b[0m\n\u001b[0;32m    286\u001b[0m \u001b[1;33m\u001b[0m\u001b[0m\n\u001b[1;32m--> 287\u001b[1;33m     \u001b[1;32mif\u001b[0m \u001b[1;33m(\u001b[0m\u001b[0mlen\u001b[0m\u001b[1;33m(\u001b[0m\u001b[0mnp\u001b[0m\u001b[1;33m.\u001b[0m\u001b[0munique\u001b[0m\u001b[1;33m(\u001b[0m\u001b[0my\u001b[0m\u001b[1;33m)\u001b[0m\u001b[1;33m)\u001b[0m \u001b[1;33m>\u001b[0m \u001b[1;36m2\u001b[0m\u001b[1;33m)\u001b[0m \u001b[1;32mor\u001b[0m \u001b[1;33m(\u001b[0m\u001b[0my\u001b[0m\u001b[1;33m.\u001b[0m\u001b[0mndim\u001b[0m \u001b[1;33m>=\u001b[0m \u001b[1;36m2\u001b[0m \u001b[1;32mand\u001b[0m \u001b[0mlen\u001b[0m\u001b[1;33m(\u001b[0m\u001b[0my\u001b[0m\u001b[1;33m[\u001b[0m\u001b[1;36m0\u001b[0m\u001b[1;33m]\u001b[0m\u001b[1;33m)\u001b[0m \u001b[1;33m>\u001b[0m \u001b[1;36m1\u001b[0m\u001b[1;33m)\u001b[0m\u001b[1;33m:\u001b[0m\u001b[1;33m\u001b[0m\u001b[1;33m\u001b[0m\u001b[0m\n\u001b[0m\u001b[0;32m    288\u001b[0m         \u001b[1;32mreturn\u001b[0m \u001b[1;34m'multiclass'\u001b[0m \u001b[1;33m+\u001b[0m \u001b[0msuffix\u001b[0m  \u001b[1;31m# [1, 2, 3] or [[1., 2., 3]] or [[1, 2]]\u001b[0m\u001b[1;33m\u001b[0m\u001b[1;33m\u001b[0m\u001b[0m\n\u001b[0;32m    289\u001b[0m     \u001b[1;32melse\u001b[0m\u001b[1;33m:\u001b[0m\u001b[1;33m\u001b[0m\u001b[1;33m\u001b[0m\u001b[0m\n",
      "\u001b[1;32m<__array_function__ internals>\u001b[0m in \u001b[0;36munique\u001b[1;34m(*args, **kwargs)\u001b[0m\n",
      "\u001b[1;32m~\\Anaconda3\\lib\\site-packages\\numpy\\lib\\arraysetops.py\u001b[0m in \u001b[0;36munique\u001b[1;34m(ar, return_index, return_inverse, return_counts, axis)\u001b[0m\n\u001b[0;32m    261\u001b[0m     \u001b[0mar\u001b[0m \u001b[1;33m=\u001b[0m \u001b[0mnp\u001b[0m\u001b[1;33m.\u001b[0m\u001b[0masanyarray\u001b[0m\u001b[1;33m(\u001b[0m\u001b[0mar\u001b[0m\u001b[1;33m)\u001b[0m\u001b[1;33m\u001b[0m\u001b[1;33m\u001b[0m\u001b[0m\n\u001b[0;32m    262\u001b[0m     \u001b[1;32mif\u001b[0m \u001b[0maxis\u001b[0m \u001b[1;32mis\u001b[0m \u001b[1;32mNone\u001b[0m\u001b[1;33m:\u001b[0m\u001b[1;33m\u001b[0m\u001b[1;33m\u001b[0m\u001b[0m\n\u001b[1;32m--> 263\u001b[1;33m         \u001b[0mret\u001b[0m \u001b[1;33m=\u001b[0m \u001b[0m_unique1d\u001b[0m\u001b[1;33m(\u001b[0m\u001b[0mar\u001b[0m\u001b[1;33m,\u001b[0m \u001b[0mreturn_index\u001b[0m\u001b[1;33m,\u001b[0m \u001b[0mreturn_inverse\u001b[0m\u001b[1;33m,\u001b[0m \u001b[0mreturn_counts\u001b[0m\u001b[1;33m)\u001b[0m\u001b[1;33m\u001b[0m\u001b[1;33m\u001b[0m\u001b[0m\n\u001b[0m\u001b[0;32m    264\u001b[0m         \u001b[1;32mreturn\u001b[0m \u001b[0m_unpack_tuple\u001b[0m\u001b[1;33m(\u001b[0m\u001b[0mret\u001b[0m\u001b[1;33m)\u001b[0m\u001b[1;33m\u001b[0m\u001b[1;33m\u001b[0m\u001b[0m\n\u001b[0;32m    265\u001b[0m \u001b[1;33m\u001b[0m\u001b[0m\n",
      "\u001b[1;32m~\\Anaconda3\\lib\\site-packages\\numpy\\lib\\arraysetops.py\u001b[0m in \u001b[0;36m_unique1d\u001b[1;34m(ar, return_index, return_inverse, return_counts)\u001b[0m\n\u001b[0;32m    309\u001b[0m         \u001b[0maux\u001b[0m \u001b[1;33m=\u001b[0m \u001b[0mar\u001b[0m\u001b[1;33m[\u001b[0m\u001b[0mperm\u001b[0m\u001b[1;33m]\u001b[0m\u001b[1;33m\u001b[0m\u001b[1;33m\u001b[0m\u001b[0m\n\u001b[0;32m    310\u001b[0m     \u001b[1;32melse\u001b[0m\u001b[1;33m:\u001b[0m\u001b[1;33m\u001b[0m\u001b[1;33m\u001b[0m\u001b[0m\n\u001b[1;32m--> 311\u001b[1;33m         \u001b[0mar\u001b[0m\u001b[1;33m.\u001b[0m\u001b[0msort\u001b[0m\u001b[1;33m(\u001b[0m\u001b[1;33m)\u001b[0m\u001b[1;33m\u001b[0m\u001b[1;33m\u001b[0m\u001b[0m\n\u001b[0m\u001b[0;32m    312\u001b[0m         \u001b[0maux\u001b[0m \u001b[1;33m=\u001b[0m \u001b[0mar\u001b[0m\u001b[1;33m\u001b[0m\u001b[1;33m\u001b[0m\u001b[0m\n\u001b[0;32m    313\u001b[0m     \u001b[0mmask\u001b[0m \u001b[1;33m=\u001b[0m \u001b[0mnp\u001b[0m\u001b[1;33m.\u001b[0m\u001b[0mempty\u001b[0m\u001b[1;33m(\u001b[0m\u001b[0maux\u001b[0m\u001b[1;33m.\u001b[0m\u001b[0mshape\u001b[0m\u001b[1;33m,\u001b[0m \u001b[0mdtype\u001b[0m\u001b[1;33m=\u001b[0m\u001b[0mnp\u001b[0m\u001b[1;33m.\u001b[0m\u001b[0mbool_\u001b[0m\u001b[1;33m)\u001b[0m\u001b[1;33m\u001b[0m\u001b[1;33m\u001b[0m\u001b[0m\n",
      "\u001b[1;31mKeyboardInterrupt\u001b[0m: "
     ]
    }
   ],
   "source": [
    "# Train a RandomForst model\n",
    "from sklearn.ensemble import RandomForestClassifier\n",
    "from sklearn.model_selection import cross_val_score\n",
    "df_train = df5[:891]\n",
    "y = labels.to_numpy()\n",
    "X = df_train.to_numpy()\n",
    "X_train, X_test, y_train, y_test = train_test_split(X, y, test_size=0.2)\n",
    "clf = RandomForestClassifier(n_estimators=1888, min_samples_split=5, min_samples_leaf=3, max_features='sqrt', max_depth=11, bootstrap=False)\n",
    "#clf = RandomForestClassifier(n_estimators=1200, min_samples_split=4, min_samples_leaf=1, max_features='auto', max_depth=5, bootstrap=True)\n",
    "\n",
    "clf.fit(X, y)\n",
    "print('RandomForst, Train score:', cross_val_score(clf, X_train, y_train, cv=10).mean())\n",
    "print('RandomForst, Test score:', cross_val_score(clf, X_test, y_test, cv=10).mean())\n"
   ]
  },
  {
   "cell_type": "markdown",
   "metadata": {},
   "source": [
    "#### Let's prepare a standard dataset for train and test"
   ]
  },
  {
   "cell_type": "code",
   "execution_count": 69,
   "metadata": {},
   "outputs": [],
   "source": [
    "df_standard_data = df5\n",
    "df_standard_data['Survived'] = labels\n",
    "df_standard_data.to_csv('cleaned_train_test.csv')"
   ]
  },
  {
   "cell_type": "code",
   "execution_count": null,
   "metadata": {},
   "outputs": [],
   "source": []
  },
  {
   "cell_type": "code",
   "execution_count": 0,
   "metadata": {
    "colab": {
     "base_uri": "https://localhost:8080/",
     "height": 235
    },
    "colab_type": "code",
    "id": "-OeKgkod96pB",
    "outputId": "5b74d906-ab45-4429-a307-fe690974f6ee"
   },
   "outputs": [
    {
     "data": {
      "text/html": [
       "<div>\n",
       "<style scoped>\n",
       "    .dataframe tbody tr th:only-of-type {\n",
       "        vertical-align: middle;\n",
       "    }\n",
       "\n",
       "    .dataframe tbody tr th {\n",
       "        vertical-align: top;\n",
       "    }\n",
       "\n",
       "    .dataframe thead th {\n",
       "        text-align: right;\n",
       "    }\n",
       "</style>\n",
       "<table border=\"1\" class=\"dataframe\">\n",
       "  <thead>\n",
       "    <tr style=\"text-align: right;\">\n",
       "      <th></th>\n",
       "      <th>Sex</th>\n",
       "      <th>Title</th>\n",
       "      <th>AgeGroup</th>\n",
       "      <th>Fare</th>\n",
       "      <th>Relatives</th>\n",
       "      <th>Embarked</th>\n",
       "      <th>Pclass</th>\n",
       "    </tr>\n",
       "    <tr>\n",
       "      <th>PassengerId</th>\n",
       "      <th></th>\n",
       "      <th></th>\n",
       "      <th></th>\n",
       "      <th></th>\n",
       "      <th></th>\n",
       "      <th></th>\n",
       "      <th></th>\n",
       "    </tr>\n",
       "  </thead>\n",
       "  <tbody>\n",
       "    <tr>\n",
       "      <th>1</th>\n",
       "      <td>-0.743497</td>\n",
       "      <td>-0.715617</td>\n",
       "      <td>0.353004</td>\n",
       "      <td>-1.248109</td>\n",
       "      <td>0.073352</td>\n",
       "      <td>-0.603436</td>\n",
       "      <td>0.841916</td>\n",
       "    </tr>\n",
       "    <tr>\n",
       "      <th>2</th>\n",
       "      <td>1.344995</td>\n",
       "      <td>0.179930</td>\n",
       "      <td>0.353004</td>\n",
       "      <td>1.124265</td>\n",
       "      <td>0.073352</td>\n",
       "      <td>0.927373</td>\n",
       "      <td>-1.546098</td>\n",
       "    </tr>\n",
       "    <tr>\n",
       "      <th>3</th>\n",
       "      <td>1.344995</td>\n",
       "      <td>1.075478</td>\n",
       "      <td>-1.091002</td>\n",
       "      <td>-0.457318</td>\n",
       "      <td>-0.558346</td>\n",
       "      <td>-0.603436</td>\n",
       "      <td>0.841916</td>\n",
       "    </tr>\n",
       "    <tr>\n",
       "      <th>4</th>\n",
       "      <td>1.344995</td>\n",
       "      <td>0.179930</td>\n",
       "      <td>0.353004</td>\n",
       "      <td>1.124265</td>\n",
       "      <td>0.073352</td>\n",
       "      <td>-0.603436</td>\n",
       "      <td>-1.546098</td>\n",
       "    </tr>\n",
       "    <tr>\n",
       "      <th>5</th>\n",
       "      <td>-0.743497</td>\n",
       "      <td>-0.715617</td>\n",
       "      <td>0.353004</td>\n",
       "      <td>-0.457318</td>\n",
       "      <td>-0.558346</td>\n",
       "      <td>-0.603436</td>\n",
       "      <td>0.841916</td>\n",
       "    </tr>\n",
       "  </tbody>\n",
       "</table>\n",
       "</div>"
      ],
      "text/plain": [
       "                  Sex     Title  AgeGroup  ...  Relatives  Embarked    Pclass\n",
       "PassengerId                                ...                               \n",
       "1           -0.743497 -0.715617  0.353004  ...   0.073352 -0.603436  0.841916\n",
       "2            1.344995  0.179930  0.353004  ...   0.073352  0.927373 -1.546098\n",
       "3            1.344995  1.075478 -1.091002  ...  -0.558346 -0.603436  0.841916\n",
       "4            1.344995  0.179930  0.353004  ...   0.073352 -0.603436 -1.546098\n",
       "5           -0.743497 -0.715617  0.353004  ...  -0.558346 -0.603436  0.841916\n",
       "\n",
       "[5 rows x 7 columns]"
      ]
     },
     "execution_count": 21,
     "metadata": {
      "tags": []
     },
     "output_type": "execute_result"
    }
   ],
   "source": [
    "df_train.head()"
   ]
  },
  {
   "cell_type": "code",
   "execution_count": 0,
   "metadata": {
    "colab": {
     "base_uri": "https://localhost:8080/",
     "height": 297
    },
    "colab_type": "code",
    "id": "3EiqYD4W96pD",
    "outputId": "7db91997-892c-4237-e97a-a33ddfbad61b"
   },
   "outputs": [
    {
     "data": {
      "text/html": [
       "<div>\n",
       "<style scoped>\n",
       "    .dataframe tbody tr th:only-of-type {\n",
       "        vertical-align: middle;\n",
       "    }\n",
       "\n",
       "    .dataframe tbody tr th {\n",
       "        vertical-align: top;\n",
       "    }\n",
       "\n",
       "    .dataframe thead th {\n",
       "        text-align: right;\n",
       "    }\n",
       "</style>\n",
       "<table border=\"1\" class=\"dataframe\">\n",
       "  <thead>\n",
       "    <tr style=\"text-align: right;\">\n",
       "      <th></th>\n",
       "      <th>importance</th>\n",
       "    </tr>\n",
       "    <tr>\n",
       "      <th>feature</th>\n",
       "      <th></th>\n",
       "    </tr>\n",
       "  </thead>\n",
       "  <tbody>\n",
       "    <tr>\n",
       "      <th>Title</th>\n",
       "      <td>0.313</td>\n",
       "    </tr>\n",
       "    <tr>\n",
       "      <th>Sex</th>\n",
       "      <td>0.245</td>\n",
       "    </tr>\n",
       "    <tr>\n",
       "      <th>Pclass</th>\n",
       "      <td>0.153</td>\n",
       "    </tr>\n",
       "    <tr>\n",
       "      <th>Relatives</th>\n",
       "      <td>0.115</td>\n",
       "    </tr>\n",
       "    <tr>\n",
       "      <th>Fare</th>\n",
       "      <td>0.095</td>\n",
       "    </tr>\n",
       "    <tr>\n",
       "      <th>AgeGroup</th>\n",
       "      <td>0.048</td>\n",
       "    </tr>\n",
       "    <tr>\n",
       "      <th>Embarked</th>\n",
       "      <td>0.032</td>\n",
       "    </tr>\n",
       "  </tbody>\n",
       "</table>\n",
       "</div>"
      ],
      "text/plain": [
       "           importance\n",
       "feature              \n",
       "Title           0.313\n",
       "Sex             0.245\n",
       "Pclass          0.153\n",
       "Relatives       0.115\n",
       "Fare            0.095\n",
       "AgeGroup        0.048\n",
       "Embarked        0.032"
      ]
     },
     "execution_count": 22,
     "metadata": {
      "tags": []
     },
     "output_type": "execute_result"
    }
   ],
   "source": [
    "importances = pd.DataFrame({'feature':df_train.columns,'importance':np.round(clf.feature_importances_,3)})\n",
    "importances = importances.sort_values('importance',ascending=False).set_index('feature')\n",
    "importances.head(25)"
   ]
  },
  {
   "cell_type": "code",
   "execution_count": 0,
   "metadata": {
    "colab": {},
    "colab_type": "code",
    "id": "oK3__Dup96pF"
   },
   "outputs": [],
   "source": [
    "# Train a Decision Tree model\n",
    "# clf = tree.DecisionTreeClassifier()\n",
    "# clf.fit(X_train, y_train)\n",
    "# #print(clf.score(X_test, y_test))\n",
    "# print('DecisionTree, Train score:', cross_val_score(clf, X_train, y_train, cv=20).mean())\n",
    "# print('DecisionTree, Test score:', cross_val_score(clf, X_test, y_test, cv=20).mean())"
   ]
  },
  {
   "cell_type": "code",
   "execution_count": 0,
   "metadata": {
    "colab": {},
    "colab_type": "code",
    "id": "CrC1tbWn96pH"
   },
   "outputs": [],
   "source": [
    "# Add result to test set\n",
    "res = clf.predict(df5[891:].to_numpy()).astype(int)\n",
    "df_test['Survived'] = res"
   ]
  },
  {
   "cell_type": "code",
   "execution_count": 0,
   "metadata": {
    "colab": {},
    "colab_type": "code",
    "id": "-nUifyEY96pI"
   },
   "outputs": [],
   "source": [
    "# Prepare result file\n",
    "df_res = df_test.loc[:,'Survived']\n",
    "df_res.to_csv('results.csv', index = True, header=True)"
   ]
  },
  {
   "cell_type": "code",
   "execution_count": 0,
   "metadata": {
    "colab": {},
    "colab_type": "code",
    "id": "TB9m0Vwp96pK",
    "outputId": "df645bb4-3ca5-4613-c9d0-c40a8d5d1461"
   },
   "outputs": [
    {
     "name": "stdout",
     "output_type": "stream",
     "text": [
      "Fitting 3 folds for each of 100 candidates, totalling 300 fits\n"
     ]
    },
    {
     "name": "stderr",
     "output_type": "stream",
     "text": [
      "[Parallel(n_jobs=-1)]: Using backend LokyBackend with 4 concurrent workers.\n",
      "[Parallel(n_jobs=-1)]: Done  33 tasks      | elapsed:   19.6s\n",
      "[Parallel(n_jobs=-1)]: Done 154 tasks      | elapsed:  1.5min\n",
      "[Parallel(n_jobs=-1)]: Done 300 out of 300 | elapsed:  3.2min finished\n"
     ]
    },
    {
     "name": "stdout",
     "output_type": "stream",
     "text": [
      "Score: 0.8765432098765432\n",
      "Best parameters: {'n_estimators': 400, 'min_samples_split': 3, 'min_samples_leaf': 2, 'max_depth': 60, 'bootstrap': True}\n"
     ]
    }
   ],
   "source": [
    "# Use the random grid to search for best hyperparameters\n",
    "# First create the base model to tune\n",
    "# Random search of parameters, using 3 fold cross validation, \n",
    "# search across 100 different combinations, and use all available cores\n",
    "from sklearn.model_selection import RandomizedSearchCV\n",
    "# Number of trees in random forest\n",
    "n_estimators = [int(x) for x in np.linspace(start = 200, stop = 2000, num = 10)]\n",
    "# Number of features to consider at every split\n",
    "# max_features = ['auto', 'sqrt']\n",
    "# Maximum number of levels in tree\n",
    "max_depth = [int(x) for x in np.linspace(40,60, num = 5)]\n",
    "max_depth.append(None)\n",
    "# Minimum number of samples required to split a node\n",
    "min_samples_split = [3, 4, 5, 6, 7]\n",
    "# Minimum number of samples required at each leaf node\n",
    "min_samples_leaf = [1,2,5]\n",
    "# Method of selecting samples for training each tree\n",
    "bootstrap = [True, False]\n",
    "\n",
    "max_features = [2, 4, 6, 8]\n",
    "# Create the random grid\n",
    "random_grid = {'n_estimators': n_estimators,\n",
    "#                'max_features': max_features,\n",
    "               'max_depth': max_depth,\n",
    "               'min_samples_split': min_samples_split,\n",
    "               'min_samples_leaf': min_samples_leaf,\n",
    "               'bootstrap': bootstrap}\n",
    "# {'bootstrap': [True, False],\n",
    "#  'max_depth': [40, 45, 50, 55, 60, None],\n",
    "#  'max_features': ['auto', 'sqrt'],\n",
    "#  'min_samples_leaf': [1, 2, 4],\n",
    "#  'min_samples_split': [2, 5, 10],\n",
    "#  'n_estimators': [600, 650, 700, 750, 800, 850, 900, 950, 1000]}\n",
    "\n",
    "\n",
    "rf_random = RandomizedSearchCV(estimator = clf, param_distributions = random_grid, n_iter = 100, cv = 3, verbose=2, random_state=42, n_jobs = -1)\n",
    "# Fit the random search model\n",
    "rf_random.fit(X, y)\n",
    "print('Score:', rf_random.score(X, y))\n",
    "print('Best parameters:', rf_random.best_params_)"
   ]
  },
  {
   "cell_type": "markdown",
   "metadata": {
    "colab_type": "text",
    "id": "TqNRKMQr96pM"
   },
   "source": [
    "### PCA Analysis"
   ]
  },
  {
   "cell_type": "code",
   "execution_count": 0,
   "metadata": {
    "colab": {},
    "colab_type": "code",
    "id": "HkKWNf5n96pP"
   },
   "outputs": [],
   "source": [
    "from sklearn.decomposition import PCA"
   ]
  },
  {
   "cell_type": "code",
   "execution_count": 0,
   "metadata": {
    "colab": {
     "base_uri": "https://localhost:8080/",
     "height": 51
    },
    "colab_type": "code",
    "id": "X3mzev3V96pR",
    "outputId": "aa825a9f-46f6-420f-eb00-db159685b540"
   },
   "outputs": [
    {
     "data": {
      "text/plain": [
       "array([0.32495111, 0.18822842, 0.15310876, 0.13506176, 0.10984951,\n",
       "       0.06448998, 0.02431045])"
      ]
     },
     "execution_count": 27,
     "metadata": {
      "tags": []
     },
     "output_type": "execute_result"
    }
   ],
   "source": [
    "pca =PCA().fit(X_train)\n",
    "X_train_pca=pca.transform(X_train)\n",
    "\n",
    "n_pcs = pca.components_.shape[0]\n",
    "most_important = [np.abs(pca.components_[i]).argmax() for i in range(n_pcs)]\n",
    "initial_feature_names = df5.columns\n",
    "most_important_names = [initial_feature_names[most_important[i]] for i in range(n_pcs)]\n",
    "d = {'PC{}'.format(i): most_important_names[i] for i in range(n_pcs)}\n",
    "df6 = pd.DataFrame(d.items())\n",
    "# df6\n",
    "\n",
    "explained_variance = pca.explained_variance_ratio_\n",
    "explained_variance\n",
    "# components = pca.components_\n",
    "# # for item in zip(df5.columns, explained_variance):\n",
    "# #     print(item)\n",
    "# components"
   ]
  },
  {
   "cell_type": "code",
   "execution_count": 0,
   "metadata": {
    "colab": {},
    "colab_type": "code",
    "id": "57olrHk-_x3h"
   },
   "outputs": [],
   "source": []
  },
  {
   "cell_type": "markdown",
   "metadata": {
    "colab_type": "text",
    "id": "-0Q_gPJv_3eo"
   },
   "source": [
    "#### Creating a dataframe to store the results of Feature combinations and accuracy"
   ]
  },
  {
   "cell_type": "code",
   "execution_count": 0,
   "metadata": {
    "colab": {},
    "colab_type": "code",
    "id": "y9V-xOi5__eR"
   },
   "outputs": [],
   "source": [
    "df_feature_combination = pd.DataFrame(columns=['Combination','Features','Train Score','Test Score'])"
   ]
  },
  {
   "cell_type": "code",
   "execution_count": 0,
   "metadata": {
    "colab": {
     "base_uri": "https://localhost:8080/",
     "height": 49
    },
    "colab_type": "code",
    "id": "65WB-U7IAx7F",
    "outputId": "13694529-eea8-476f-c98e-61c850ff3974"
   },
   "outputs": [
    {
     "data": {
      "text/html": [
       "<div>\n",
       "<style scoped>\n",
       "    .dataframe tbody tr th:only-of-type {\n",
       "        vertical-align: middle;\n",
       "    }\n",
       "\n",
       "    .dataframe tbody tr th {\n",
       "        vertical-align: top;\n",
       "    }\n",
       "\n",
       "    .dataframe thead th {\n",
       "        text-align: right;\n",
       "    }\n",
       "</style>\n",
       "<table border=\"1\" class=\"dataframe\">\n",
       "  <thead>\n",
       "    <tr style=\"text-align: right;\">\n",
       "      <th></th>\n",
       "      <th>Combination</th>\n",
       "      <th>Features</th>\n",
       "      <th>Train Score</th>\n",
       "      <th>Test Score</th>\n",
       "    </tr>\n",
       "  </thead>\n",
       "  <tbody>\n",
       "  </tbody>\n",
       "</table>\n",
       "</div>"
      ],
      "text/plain": [
       "Empty DataFrame\n",
       "Columns: [Combination, Features, Train Score, Test Score]\n",
       "Index: []"
      ]
     },
     "execution_count": 55,
     "metadata": {
      "tags": []
     },
     "output_type": "execute_result"
    }
   ],
   "source": [
    "df_feature_combination"
   ]
  },
  {
   "cell_type": "code",
   "execution_count": 0,
   "metadata": {
    "colab": {},
    "colab_type": "code",
    "id": "nNsfA837DhMI"
   },
   "outputs": [],
   "source": [
    "def populate_featureCombo(combo,features,train_score,test_score):\n",
    "    global df_feature_combination\n",
    "    df_feature_combination = df_feature_combination.append({'Combination':combo, 'Features':features,'Train Score':train_score,'Test Score':test_score},ignore_index=True)"
   ]
  },
  {
   "cell_type": "markdown",
   "metadata": {
    "colab_type": "text",
    "id": "DtVkEx3I96pT"
   },
   "source": [
    "### Feature Combinations"
   ]
  },
  {
   "cell_type": "code",
   "execution_count": 0,
   "metadata": {
    "colab": {
     "base_uri": "https://localhost:8080/",
     "height": 374
    },
    "colab_type": "code",
    "id": "HKhCqReK96pT",
    "outputId": "fa8258ce-027c-4bcd-9576-fa40dd9b203d"
   },
   "outputs": [
    {
     "name": "stdout",
     "output_type": "stream",
     "text": [
      "Features:  ['Sex']\n",
      "1  RandomForst, Train score: 0.7906885758998434\n",
      "1  RandomForst, Test score: 0.7715686274509803\n",
      "Features:  ['Title']\n",
      "2  RandomForst, Train score: 0.7865805946791862\n",
      "2  RandomForst, Test score: 0.7937908496732027\n",
      "Features:  ['AgeGroup']\n",
      "3  RandomForst, Train score: 0.6081377151799687\n",
      "3  RandomForst, Test score: 0.5980392156862746\n",
      "Features:  ['Fare']\n",
      "4  RandomForst, Train score: 0.6305946791862285\n",
      "4  RandomForst, Test score: 0.692483660130719\n",
      "Features:  ['Relatives']\n",
      "5  RandomForst, Train score: 0.6656103286384976\n",
      "5  RandomForst, Test score: 0.6473856209150327\n",
      "Features:  ['Embarked']\n",
      "6  RandomForst, Train score: 0.6179186228482003\n",
      "6  RandomForst, Test score: 0.6879084967320261\n",
      "Features:  ['Pclass']\n",
      "7  RandomForst, Train score: 0.6825117370892018\n",
      "7  RandomForst, Test score: 0.6869281045751634\n"
     ]
    }
   ],
   "source": [
    "from itertools import combinations \n",
    "comb = list(combinations(df5.columns, 1))\n",
    "\n",
    "i = 1\n",
    "for c in comb:\n",
    "    feature_list = [x for x in c]\n",
    "    df_t = df_train[df_train.columns.intersection(feature_list)]\n",
    "\n",
    "    y = labels.to_numpy()\n",
    "    X = df_t.to_numpy()\n",
    "    X_train, X_test, y_train, y_test = train_test_split(X, y, test_size=0.2)\n",
    "    clf = RandomForestClassifier(n_estimators=400, min_samples_split=3, min_samples_leaf=2, max_features='sqrt', max_depth=60, bootstrap=True)\n",
    "    clf.fit(X, y)\n",
    "    print('Features: ', feature_list)\n",
    "    train_score = cross_val_score(clf, X_train, y_train, cv=10).mean()\n",
    "    test_score = cross_val_score(clf, X_test, y_test, cv=10).mean()\n",
    "    print(i,' RandomForst, Train score:', train_score)\n",
    "    print(i,' RandomForst, Test score:', test_score)\n",
    "    i+=1\n",
    "    populate_featureCombo(1,feature_list,train_score,test_score)\n",
    "    # df_feature_combination['Combination'] = 1\n",
    "    # df_feature_combination['Features'] = feature_list\n",
    "    # df_feature_combination['Train Score'] = cross_val_score(clf, X_train, y_train, cv=10).mean()\n",
    "    # df_feature_combination['Test Score'] = cross_val_score(clf, X_test, y_test, cv=10).mean()"
   ]
  },
  {
   "cell_type": "code",
   "execution_count": 0,
   "metadata": {
    "colab": {
     "base_uri": "https://localhost:8080/",
     "height": 266
    },
    "colab_type": "code",
    "id": "aH0V8m_oFZCL",
    "outputId": "142b6d69-6307-4434-9b84-80b4b2df4547"
   },
   "outputs": [
    {
     "data": {
      "text/html": [
       "<div>\n",
       "<style scoped>\n",
       "    .dataframe tbody tr th:only-of-type {\n",
       "        vertical-align: middle;\n",
       "    }\n",
       "\n",
       "    .dataframe tbody tr th {\n",
       "        vertical-align: top;\n",
       "    }\n",
       "\n",
       "    .dataframe thead th {\n",
       "        text-align: right;\n",
       "    }\n",
       "</style>\n",
       "<table border=\"1\" class=\"dataframe\">\n",
       "  <thead>\n",
       "    <tr style=\"text-align: right;\">\n",
       "      <th></th>\n",
       "      <th>Combination</th>\n",
       "      <th>Features</th>\n",
       "      <th>Train Score</th>\n",
       "      <th>Test Score</th>\n",
       "    </tr>\n",
       "  </thead>\n",
       "  <tbody>\n",
       "    <tr>\n",
       "      <th>0</th>\n",
       "      <td>1</td>\n",
       "      <td>[Sex]</td>\n",
       "      <td>0.790689</td>\n",
       "      <td>0.771569</td>\n",
       "    </tr>\n",
       "    <tr>\n",
       "      <th>1</th>\n",
       "      <td>1</td>\n",
       "      <td>[Title]</td>\n",
       "      <td>0.786581</td>\n",
       "      <td>0.793791</td>\n",
       "    </tr>\n",
       "    <tr>\n",
       "      <th>2</th>\n",
       "      <td>1</td>\n",
       "      <td>[AgeGroup]</td>\n",
       "      <td>0.608138</td>\n",
       "      <td>0.598039</td>\n",
       "    </tr>\n",
       "    <tr>\n",
       "      <th>3</th>\n",
       "      <td>1</td>\n",
       "      <td>[Fare]</td>\n",
       "      <td>0.630595</td>\n",
       "      <td>0.692484</td>\n",
       "    </tr>\n",
       "    <tr>\n",
       "      <th>4</th>\n",
       "      <td>1</td>\n",
       "      <td>[Relatives]</td>\n",
       "      <td>0.665610</td>\n",
       "      <td>0.647386</td>\n",
       "    </tr>\n",
       "    <tr>\n",
       "      <th>5</th>\n",
       "      <td>1</td>\n",
       "      <td>[Embarked]</td>\n",
       "      <td>0.617919</td>\n",
       "      <td>0.687908</td>\n",
       "    </tr>\n",
       "    <tr>\n",
       "      <th>6</th>\n",
       "      <td>1</td>\n",
       "      <td>[Pclass]</td>\n",
       "      <td>0.682512</td>\n",
       "      <td>0.686928</td>\n",
       "    </tr>\n",
       "  </tbody>\n",
       "</table>\n",
       "</div>"
      ],
      "text/plain": [
       "  Combination     Features  Train Score  Test Score\n",
       "0           1        [Sex]     0.790689    0.771569\n",
       "1           1      [Title]     0.786581    0.793791\n",
       "2           1   [AgeGroup]     0.608138    0.598039\n",
       "3           1       [Fare]     0.630595    0.692484\n",
       "4           1  [Relatives]     0.665610    0.647386\n",
       "5           1   [Embarked]     0.617919    0.687908\n",
       "6           1     [Pclass]     0.682512    0.686928"
      ]
     },
     "execution_count": 60,
     "metadata": {
      "tags": []
     },
     "output_type": "execute_result"
    }
   ],
   "source": [
    "df_feature_combination"
   ]
  },
  {
   "cell_type": "code",
   "execution_count": 0,
   "metadata": {
    "colab": {
     "base_uri": "https://localhost:8080/",
     "height": 731
    },
    "colab_type": "code",
    "id": "k4NmWA8A96pV",
    "outputId": "27a67f1d-1be5-4397-b76b-ad2c3ee1aac3"
   },
   "outputs": [
    {
     "name": "stdout",
     "output_type": "stream",
     "text": [
      "1  RandomForst, Train score: 0.8033841940532082\n",
      "1  RandomForst, Test score: 0.7549019607843137\n",
      "2  RandomForst, Train score: 0.7908450704225352\n",
      "2  RandomForst, Test score: 0.7718954248366013\n",
      "3  RandomForst, Train score: 0.7710485133020344\n",
      "3  RandomForst, Test score: 0.8267973856209151\n",
      "4  RandomForst, Train score: 0.8004694835680752\n",
      "4  RandomForst, Test score: 0.7656862745098039\n",
      "5  RandomForst, Train score: 0.7780907668231613\n",
      "5  RandomForst, Test score: 0.8205882352941176\n",
      "6  RandomForst, Train score: 0.776643192488263\n",
      "6  RandomForst, Test score: 0.8274509803921568\n",
      "7  RandomForst, Train score: 0.7781298904538342\n",
      "7  RandomForst, Test score: 0.7931372549019607\n",
      "8  RandomForst, Train score: 0.7934859154929577\n",
      "8  RandomForst, Test score: 0.7591503267973857\n",
      "9  RandomForst, Train score: 0.8286384976525822\n",
      "9  RandomForst, Test score: 0.75359477124183\n",
      "10  RandomForst, Train score: 0.7964397496087636\n",
      "10  RandomForst, Test score: 0.7702614379084968\n",
      "11  RandomForst, Train score: 0.7822965571205007\n",
      "11  RandomForst, Test score: 0.7928104575163399\n",
      "12  RandomForst, Train score: 0.6658255086071987\n",
      "12  RandomForst, Test score: 0.6699346405228758\n",
      "13  RandomForst, Train score: 0.6685446009389671\n",
      "13  RandomForst, Test score: 0.6150326797385621\n",
      "14  RandomForst, Train score: 0.6571987480438184\n",
      "14  RandomForst, Test score: 0.6875816993464052\n",
      "15  RandomForst, Train score: 0.6501760563380282\n",
      "15  RandomForst, Test score: 0.7264705882352942\n",
      "16  RandomForst, Train score: 0.7079616588419405\n",
      "16  RandomForst, Test score: 0.5702614379084967\n",
      "17  RandomForst, Train score: 0.6712050078247261\n",
      "17  RandomForst, Test score: 0.6369281045751635\n",
      "18  RandomForst, Train score: 0.7008607198748045\n",
      "18  RandomForst, Test score: 0.7101307189542483\n",
      "19  RandomForst, Train score: 0.6628912363067292\n",
      "19  RandomForst, Test score: 0.6869281045751634\n",
      "20  RandomForst, Train score: 0.685641627543036\n",
      "20  RandomForst, Test score: 0.692156862745098\n",
      "21  RandomForst, Train score: 0.6726134585289515\n",
      "21  RandomForst, Test score: 0.6202614379084967\n"
     ]
    }
   ],
   "source": [
    "from itertools import combinations \n",
    "comb = list(combinations(df5.columns, 2))\n",
    "\n",
    "i = 1\n",
    "for c in comb:\n",
    "    feature_list = [x for x in c]\n",
    "    df_t = df_train[df_train.columns.intersection(feature_list)]\n",
    "\n",
    "    y = labels.to_numpy()\n",
    "    X = df_t.to_numpy()\n",
    "    X_train, X_test, y_train, y_test = train_test_split(X, y, test_size=0.2)\n",
    "    clf = RandomForestClassifier(n_estimators=400, min_samples_split=3, min_samples_leaf=2, max_features='sqrt', max_depth=60, bootstrap=True)\n",
    "    clf.fit(X, y)\n",
    "    train_score = cross_val_score(clf, X_train, y_train, cv=10).mean()\n",
    "    test_score = cross_val_score(clf, X_test, y_test, cv=10).mean()\n",
    "    print(i,' RandomForst, Train score:', train_score)\n",
    "    print(i,' RandomForst, Test score:', test_score)\n",
    "    i+=1\n",
    "    populate_featureCombo(2,feature_list,train_score,test_score)"
   ]
  },
  {
   "cell_type": "code",
   "execution_count": 0,
   "metadata": {
    "colab": {
     "base_uri": "https://localhost:8080/",
     "height": 1000
    },
    "colab_type": "code",
    "id": "24zkZK5g96pY",
    "outputId": "f608bae9-aa9e-4b4c-8171-567357370a99"
   },
   "outputs": [
    {
     "name": "stdout",
     "output_type": "stream",
     "text": [
      "Features:  ['Sex', 'Title', 'AgeGroup']\n",
      "1  RandomForst, Train score: 0.7793818466353678\n",
      "1  RandomForst, Test score: 0.815686274509804\n",
      "Features:  ['Sex', 'Title', 'Fare']\n",
      "2  RandomForst, Train score: 0.8048513302034429\n",
      "2  RandomForst, Test score: 0.7774509803921569\n",
      "Features:  ['Sex', 'Title', 'Relatives']\n",
      "3  RandomForst, Train score: 0.8216158059467918\n",
      "3  RandomForst, Test score: 0.8320261437908496\n",
      "Features:  ['Sex', 'Title', 'Embarked']\n",
      "4  RandomForst, Train score: 0.8019561815336465\n",
      "4  RandomForst, Test score: 0.7601307189542484\n",
      "Features:  ['Sex', 'Title', 'Pclass']\n",
      "5  RandomForst, Train score: 0.7836267605633802\n",
      "5  RandomForst, Test score: 0.7937908496732027\n",
      "Features:  ['Sex', 'AgeGroup', 'Fare']\n",
      "6  RandomForst, Train score: 0.7906885758998434\n",
      "6  RandomForst, Test score: 0.765359477124183\n",
      "Features:  ['Sex', 'AgeGroup', 'Relatives']\n",
      "7  RandomForst, Train score: 0.8034233176838811\n",
      "7  RandomForst, Test score: 0.7702614379084968\n",
      "Features:  ['Sex', 'AgeGroup', 'Embarked']\n",
      "8  RandomForst, Train score: 0.80481220657277\n",
      "8  RandomForst, Test score: 0.6643790849673202\n",
      "Features:  ['Sex', 'AgeGroup', 'Pclass']\n",
      "9  RandomForst, Train score: 0.7865023474178404\n",
      "9  RandomForst, Test score: 0.803921568627451\n",
      "Features:  ['Sex', 'Fare', 'Relatives']\n",
      "10  RandomForst, Train score: 0.7864632237871675\n",
      "10  RandomForst, Test score: 0.7771241830065361\n",
      "Features:  ['Sex', 'Fare', 'Embarked']\n",
      "11  RandomForst, Train score: 0.7794796557120501\n",
      "11  RandomForst, Test score: 0.7653594771241831\n",
      "Features:  ['Sex', 'Fare', 'Pclass']\n",
      "12  RandomForst, Train score: 0.7989632237871674\n",
      "12  RandomForst, Test score: 0.8104575163398693\n",
      "Features:  ['Sex', 'Relatives', 'Embarked']\n",
      "13  RandomForst, Train score: 0.8032863849765258\n",
      "13  RandomForst, Test score: 0.7771241830065359\n",
      "Features:  ['Sex', 'Relatives', 'Pclass']\n",
      "14  RandomForst, Train score: 0.8075312989045385\n",
      "14  RandomForst, Test score: 0.7937908496732027\n",
      "Features:  ['Sex', 'Embarked', 'Pclass']\n",
      "15  RandomForst, Train score: 0.8229851330203444\n",
      "15  RandomForst, Test score: 0.6866013071895425\n",
      "Features:  ['Title', 'AgeGroup', 'Fare']\n",
      "16  RandomForst, Train score: 0.7808881064162755\n",
      "16  RandomForst, Test score: 0.7928104575163399\n",
      "Features:  ['Title', 'AgeGroup', 'Relatives']\n",
      "17  RandomForst, Train score: 0.8258607198748044\n",
      "17  RandomForst, Test score: 0.7705882352941177\n",
      "Features:  ['Title', 'AgeGroup', 'Embarked']\n",
      "18  RandomForst, Train score: 0.7978090766823163\n",
      "18  RandomForst, Test score: 0.7147058823529412\n",
      "Features:  ['Title', 'AgeGroup', 'Pclass']\n",
      "19  RandomForst, Train score: 0.7964201877934272\n",
      "19  RandomForst, Test score: 0.7699346405228757\n",
      "Features:  ['Title', 'Fare', 'Relatives']\n",
      "20  RandomForst, Train score: 0.8271517996870109\n",
      "20  RandomForst, Test score: 0.6983660130718954\n",
      "Features:  ['Title', 'Fare', 'Embarked']\n",
      "21  RandomForst, Train score: 0.7752151799687012\n",
      "21  RandomForst, Test score: 0.8261437908496732\n",
      "Features:  ['Title', 'Fare', 'Pclass']\n",
      "22  RandomForst, Train score: 0.7920383411580594\n",
      "22  RandomForst, Test score: 0.7761437908496732\n",
      "Features:  ['Title', 'Relatives', 'Embarked']\n",
      "23  RandomForst, Train score: 0.8174295774647888\n",
      "23  RandomForst, Test score: 0.8150326797385621\n",
      "Features:  ['Title', 'Relatives', 'Pclass']\n",
      "24  RandomForst, Train score: 0.810387323943662\n",
      "24  RandomForst, Test score: 0.7990196078431373\n",
      "Features:  ['Title', 'Embarked', 'Pclass']\n",
      "25  RandomForst, Train score: 0.8244327073552427\n",
      "25  RandomForst, Test score: 0.6928104575163399\n",
      "Features:  ['AgeGroup', 'Fare', 'Relatives']\n",
      "26  RandomForst, Train score: 0.6895931142410016\n",
      "26  RandomForst, Test score: 0.6594771241830065\n",
      "Features:  ['AgeGroup', 'Fare', 'Embarked']\n",
      "27  RandomForst, Train score: 0.6531103286384977\n",
      "27  RandomForst, Test score: 0.6705882352941177\n",
      "Features:  ['AgeGroup', 'Fare', 'Pclass']\n",
      "28  RandomForst, Train score: 0.6937597809076682\n",
      "28  RandomForst, Test score: 0.6539215686274511\n",
      "Features:  ['AgeGroup', 'Relatives', 'Embarked']\n",
      "29  RandomForst, Train score: 0.655790297339593\n",
      "29  RandomForst, Test score: 0.7091503267973858\n",
      "Features:  ['AgeGroup', 'Relatives', 'Pclass']\n",
      "30  RandomForst, Train score: 0.7246674491392802\n",
      "30  RandomForst, Test score: 0.6261437908496732\n",
      "Features:  ['AgeGroup', 'Embarked', 'Pclass']\n",
      "31  RandomForst, Train score: 0.6657668231611893\n",
      "31  RandomForst, Test score: 0.6859477124183007\n",
      "Features:  ['Fare', 'Relatives', 'Embarked']\n",
      "32  RandomForst, Train score: 0.693798904538341\n",
      "32  RandomForst, Test score: 0.6160130718954248\n",
      "Features:  ['Fare', 'Relatives', 'Pclass']\n",
      "33  RandomForst, Train score: 0.693838028169014\n",
      "33  RandomForst, Test score: 0.7483660130718954\n",
      "Features:  ['Fare', 'Embarked', 'Pclass']\n",
      "34  RandomForst, Train score: 0.7006455399061033\n",
      "34  RandomForst, Test score: 0.6977124183006536\n",
      "Features:  ['Relatives', 'Embarked', 'Pclass']\n",
      "35  RandomForst, Train score: 0.6784037558685447\n",
      "35  RandomForst, Test score: 0.6875816993464052\n"
     ]
    }
   ],
   "source": [
    "from itertools import combinations \n",
    "comb = list(combinations(df5.columns, 3))\n",
    "\n",
    "i = 1\n",
    "for c in comb:\n",
    "    feature_list = [x for x in c]\n",
    "    df_t = df_train[df_train.columns.intersection(feature_list)]\n",
    "\n",
    "    y = labels.to_numpy()\n",
    "    X = df_t.to_numpy()\n",
    "    X_train, X_test, y_train, y_test = train_test_split(X, y, test_size=0.2)\n",
    "    clf = RandomForestClassifier(n_estimators=400, min_samples_split=3, min_samples_leaf=2, max_features='sqrt', max_depth=60, bootstrap=True)\n",
    "    clf.fit(X, y)\n",
    "    print('Features: ', feature_list)\n",
    "    train_score = cross_val_score(clf, X_train, y_train, cv=10).mean()\n",
    "    test_score = cross_val_score(clf, X_test, y_test, cv=10).mean()\n",
    "    print(i,' RandomForst, Train score:', train_score)\n",
    "    print(i,' RandomForst, Test score:', test_score)\n",
    "    i+=1\n",
    "    populate_featureCombo(3,feature_list,train_score,test_score)"
   ]
  },
  {
   "cell_type": "code",
   "execution_count": 0,
   "metadata": {
    "colab": {
     "base_uri": "https://localhost:8080/",
     "height": 1000
    },
    "colab_type": "code",
    "id": "FkbDcD9v96pZ",
    "outputId": "0771cd85-2142-4297-8f7d-8cd96fa47fef"
   },
   "outputs": [
    {
     "name": "stdout",
     "output_type": "stream",
     "text": [
      "Features:  ['Sex', 'Title', 'AgeGroup', 'Fare']\n",
      "1  RandomForst, Train score: 0.7765845070422535\n",
      "1  RandomForst, Test score: 0.7820261437908498\n",
      "Features:  ['Sex', 'Title', 'AgeGroup', 'Relatives']\n",
      "2  RandomForst, Train score: 0.799021909233177\n",
      "2  RandomForst, Test score: 0.8496732026143791\n",
      "Features:  ['Sex', 'Title', 'AgeGroup', 'Embarked']\n",
      "3  RandomForst, Train score: 0.8018192488262912\n",
      "3  RandomForst, Test score: 0.7209150326797386\n",
      "Features:  ['Sex', 'Title', 'AgeGroup', 'Pclass']\n",
      "4  RandomForst, Train score: 0.7950508607198749\n",
      "4  RandomForst, Test score: 0.7091503267973855\n",
      "Features:  ['Sex', 'Title', 'Fare', 'Relatives']\n",
      "5  RandomForst, Train score: 0.8216549295774648\n",
      "5  RandomForst, Test score: 0.781372549019608\n",
      "Features:  ['Sex', 'Title', 'Fare', 'Embarked']\n",
      "6  RandomForst, Train score: 0.7920970266040689\n",
      "6  RandomForst, Test score: 0.753267973856209\n",
      "Features:  ['Sex', 'Title', 'Fare', 'Pclass']\n",
      "7  RandomForst, Train score: 0.7990805946791862\n",
      "7  RandomForst, Test score: 0.7996732026143791\n",
      "Features:  ['Sex', 'Title', 'Relatives', 'Embarked']\n",
      "8  RandomForst, Train score: 0.8369522691705791\n",
      "8  RandomForst, Test score: 0.7820261437908497\n",
      "Features:  ['Sex', 'Title', 'Relatives', 'Pclass']\n",
      "9  RandomForst, Train score: 0.8035211267605634\n",
      "9  RandomForst, Test score: 0.7709150326797386\n",
      "Features:  ['Sex', 'Title', 'Embarked', 'Pclass']\n",
      "10  RandomForst, Train score: 0.8159820031298904\n",
      "10  RandomForst, Test score: 0.8160130718954248\n",
      "Features:  ['Sex', 'AgeGroup', 'Fare', 'Relatives']\n",
      "11  RandomForst, Train score: 0.7922926447574334\n",
      "11  RandomForst, Test score: 0.7372549019607842\n",
      "Features:  ['Sex', 'AgeGroup', 'Fare', 'Embarked']\n",
      "12  RandomForst, Train score: 0.7697769953051644\n",
      "12  RandomForst, Test score: 0.7156862745098038\n",
      "Features:  ['Sex', 'AgeGroup', 'Fare', 'Pclass']\n",
      "13  RandomForst, Train score: 0.815923317683881\n",
      "13  RandomForst, Test score: 0.7264705882352942\n",
      "Features:  ['Sex', 'AgeGroup', 'Relatives', 'Embarked']\n",
      "14  RandomForst, Train score: 0.7991784037558687\n",
      "14  RandomForst, Test score: 0.7660130718954248\n",
      "Features:  ['Sex', 'AgeGroup', 'Relatives', 'Pclass']\n",
      "15  RandomForst, Train score: 0.8132042253521128\n",
      "15  RandomForst, Test score: 0.7820261437908497\n",
      "Features:  ['Sex', 'AgeGroup', 'Embarked', 'Pclass']\n",
      "16  RandomForst, Train score: 0.7907863849765259\n",
      "16  RandomForst, Test score: 0.8104575163398693\n",
      "Features:  ['Sex', 'Fare', 'Relatives', 'Embarked']\n",
      "17  RandomForst, Train score: 0.7836854460093897\n",
      "17  RandomForst, Test score: 0.8274509803921568\n",
      "Features:  ['Sex', 'Fare', 'Relatives', 'Pclass']\n",
      "18  RandomForst, Train score: 0.7949139280125196\n",
      "18  RandomForst, Test score: 0.7761437908496732\n",
      "Features:  ['Sex', 'Fare', 'Embarked', 'Pclass']\n",
      "19  RandomForst, Train score: 0.7891627543035995\n",
      "19  RandomForst, Test score: 0.8160130718954248\n",
      "Features:  ['Sex', 'Relatives', 'Embarked', 'Pclass']\n",
      "20  RandomForst, Train score: 0.7977699530516432\n",
      "20  RandomForst, Test score: 0.826797385620915\n",
      "Features:  ['Title', 'AgeGroup', 'Fare', 'Relatives']\n",
      "21  RandomForst, Train score: 0.8146909233176839\n",
      "21  RandomForst, Test score: 0.766013071895425\n",
      "Features:  ['Title', 'AgeGroup', 'Fare', 'Embarked']\n",
      "22  RandomForst, Train score: 0.787793427230047\n",
      "22  RandomForst, Test score: 0.7434640522875817\n",
      "Features:  ['Title', 'AgeGroup', 'Fare', 'Pclass']\n",
      "23  RandomForst, Train score: 0.8215571205007824\n",
      "23  RandomForst, Test score: 0.7604575163398692\n",
      "Features:  ['Title', 'AgeGroup', 'Relatives', 'Embarked']\n",
      "24  RandomForst, Train score: 0.814651799687011\n",
      "24  RandomForst, Test score: 0.7758169934640523\n",
      "Features:  ['Title', 'AgeGroup', 'Relatives', 'Pclass']\n",
      "25  RandomForst, Train score: 0.8201682316118936\n",
      "25  RandomForst, Test score: 0.803921568627451\n",
      "Features:  ['Title', 'AgeGroup', 'Embarked', 'Pclass']\n",
      "26  RandomForst, Train score: 0.821537558685446\n",
      "26  RandomForst, Test score: 0.7875816993464052\n",
      "Features:  ['Title', 'Fare', 'Relatives', 'Embarked']\n",
      "27  RandomForst, Train score: 0.8327856025039123\n",
      "27  RandomForst, Test score: 0.7816993464052288\n",
      "Features:  ['Title', 'Fare', 'Relatives', 'Pclass']\n",
      "28  RandomForst, Train score: 0.8061815336463225\n",
      "28  RandomForst, Test score: 0.8264705882352941\n",
      "Features:  ['Title', 'Fare', 'Embarked', 'Pclass']\n",
      "29  RandomForst, Train score: 0.7990023474178404\n",
      "29  RandomForst, Test score: 0.8104575163398694\n",
      "Features:  ['Title', 'Relatives', 'Embarked', 'Pclass']\n",
      "30  RandomForst, Train score: 0.832942097026604\n",
      "30  RandomForst, Test score: 0.8101307189542484\n",
      "Features:  ['AgeGroup', 'Fare', 'Relatives', 'Embarked']\n",
      "31  RandomForst, Train score: 0.686952269170579\n",
      "31  RandomForst, Test score: 0.6539215686274511\n",
      "Features:  ['AgeGroup', 'Fare', 'Relatives', 'Pclass']\n",
      "32  RandomForst, Train score: 0.6911384976525821\n",
      "32  RandomForst, Test score: 0.6866013071895425\n",
      "Features:  ['AgeGroup', 'Fare', 'Embarked', 'Pclass']\n",
      "33  RandomForst, Train score: 0.6823161189358373\n",
      "33  RandomForst, Test score: 0.681045751633987\n",
      "Features:  ['AgeGroup', 'Relatives', 'Embarked', 'Pclass']\n",
      "34  RandomForst, Train score: 0.7191510172143974\n",
      "34  RandomForst, Test score: 0.615359477124183\n",
      "Features:  ['Fare', 'Relatives', 'Embarked', 'Pclass']\n",
      "35  RandomForst, Train score: 0.6951486697965571\n",
      "35  RandomForst, Test score: 0.6382352941176469\n"
     ]
    }
   ],
   "source": [
    "from itertools import combinations \n",
    "comb = list(combinations(df5.columns, 4))\n",
    "\n",
    "i = 1\n",
    "for c in comb:\n",
    "    feature_list = [x for x in c]\n",
    "    df_t = df_train[df_train.columns.intersection(feature_list)]\n",
    "\n",
    "    y = labels.to_numpy()\n",
    "    X = df_t.to_numpy()\n",
    "    X_train, X_test, y_train, y_test = train_test_split(X, y, test_size=0.2)\n",
    "    clf = RandomForestClassifier(n_estimators=400, min_samples_split=3, min_samples_leaf=2, max_features='sqrt', max_depth=60, bootstrap=True)\n",
    "    clf.fit(X, y)\n",
    "    print('Features: ', feature_list)\n",
    "    train_score = cross_val_score(clf, X_train, y_train, cv=10).mean()\n",
    "    test_score = cross_val_score(clf, X_test, y_test, cv=10).mean()\n",
    "    print(i,' RandomForst, Train score:', train_score)\n",
    "    print(i,' RandomForst, Test score:', test_score)\n",
    "    i+=1\n",
    "    populate_featureCombo(4,feature_list,train_score,test_score)"
   ]
  },
  {
   "cell_type": "code",
   "execution_count": 0,
   "metadata": {
    "colab": {
     "base_uri": "https://localhost:8080/",
     "height": 1000
    },
    "colab_type": "code",
    "id": "fPmysH1o96pb",
    "outputId": "cc9c674b-09af-45e0-d42d-f7000c00d81b"
   },
   "outputs": [
    {
     "name": "stdout",
     "output_type": "stream",
     "text": [
      "Features:  ['Sex', 'Title', 'AgeGroup', 'Fare', 'Relatives']\n",
      "1  RandomForst, Train score: 0.802073552425665\n",
      "1  RandomForst, Test score: 0.8163398692810457\n",
      "Features:  ['Sex', 'Title', 'AgeGroup', 'Fare', 'Embarked']\n",
      "2  RandomForst, Train score: 0.7892214397496087\n",
      "2  RandomForst, Test score: 0.7598039215686274\n",
      "Features:  ['Sex', 'Title', 'AgeGroup', 'Fare', 'Pclass']\n",
      "3  RandomForst, Train score: 0.8160602503912363\n",
      "3  RandomForst, Test score: 0.7990196078431373\n",
      "Features:  ['Sex', 'Title', 'AgeGroup', 'Relatives', 'Embarked']\n",
      "4  RandomForst, Train score: 0.8258998435054773\n",
      "4  RandomForst, Test score: 0.7761437908496733\n",
      "Features:  ['Sex', 'Title', 'AgeGroup', 'Relatives', 'Pclass']\n",
      "5  RandomForst, Train score: 0.8257433489827857\n",
      "5  RandomForst, Test score: 0.8153594771241831\n",
      "Features:  ['Sex', 'Title', 'AgeGroup', 'Embarked', 'Pclass']\n",
      "6  RandomForst, Train score: 0.8062793427230046\n",
      "6  RandomForst, Test score: 0.8434640522875817\n",
      "Features:  ['Sex', 'Title', 'Fare', 'Relatives', 'Embarked']\n",
      "7  RandomForst, Train score: 0.8131064162754305\n",
      "7  RandomForst, Test score: 0.8379084967320262\n",
      "Features:  ['Sex', 'Title', 'Fare', 'Relatives', 'Pclass']\n",
      "8  RandomForst, Train score: 0.8174100156494524\n",
      "8  RandomForst, Test score: 0.8323529411764706\n",
      "Features:  ['Sex', 'Title', 'Fare', 'Embarked', 'Pclass']\n",
      "9  RandomForst, Train score: 0.7991392801251956\n",
      "9  RandomForst, Test score: 0.7486928104575163\n",
      "Features:  ['Sex', 'Title', 'Relatives', 'Embarked', 'Pclass']\n",
      "10  RandomForst, Train score: 0.8343114241001566\n",
      "10  RandomForst, Test score: 0.7931372549019609\n",
      "Features:  ['Sex', 'AgeGroup', 'Fare', 'Relatives', 'Embarked']\n",
      "11  RandomForst, Train score: 0.8005477308294211\n",
      "11  RandomForst, Test score: 0.7539215686274511\n",
      "Features:  ['Sex', 'AgeGroup', 'Fare', 'Relatives', 'Pclass']\n",
      "12  RandomForst, Train score: 0.8257629107981221\n",
      "12  RandomForst, Test score: 0.7375816993464052\n",
      "Features:  ['Sex', 'AgeGroup', 'Fare', 'Embarked', 'Pclass']\n",
      "13  RandomForst, Train score: 0.7907276995305165\n",
      "13  RandomForst, Test score: 0.781372549019608\n",
      "Features:  ['Sex', 'AgeGroup', 'Relatives', 'Embarked', 'Pclass']\n",
      "14  RandomForst, Train score: 0.7977699530516433\n",
      "14  RandomForst, Test score: 0.8264705882352942\n",
      "Features:  ['Sex', 'Fare', 'Relatives', 'Embarked', 'Pclass']\n",
      "15  RandomForst, Train score: 0.7851134585289514\n",
      "15  RandomForst, Test score: 0.7820261437908497\n",
      "Features:  ['Title', 'AgeGroup', 'Fare', 'Relatives', 'Embarked']\n",
      "16  RandomForst, Train score: 0.8187597809076683\n",
      "16  RandomForst, Test score: 0.8323529411764705\n",
      "Features:  ['Title', 'AgeGroup', 'Fare', 'Relatives', 'Pclass']\n",
      "17  RandomForst, Train score: 0.8398082942097027\n",
      "17  RandomForst, Test score: 0.7594771241830065\n",
      "Features:  ['Title', 'AgeGroup', 'Fare', 'Embarked', 'Pclass']\n",
      "18  RandomForst, Train score: 0.8357198748043817\n",
      "18  RandomForst, Test score: 0.7428104575163399\n",
      "Features:  ['Title', 'AgeGroup', 'Relatives', 'Embarked', 'Pclass']\n",
      "19  RandomForst, Train score: 0.825802034428795\n",
      "19  RandomForst, Test score: 0.7816993464052289\n",
      "Features:  ['Title', 'Fare', 'Relatives', 'Embarked', 'Pclass']\n",
      "20  RandomForst, Train score: 0.7949334898278559\n",
      "20  RandomForst, Test score: 0.8107843137254902\n",
      "Features:  ['AgeGroup', 'Fare', 'Relatives', 'Embarked', 'Pclass']\n",
      "21  RandomForst, Train score: 0.7022300469483568\n",
      "21  RandomForst, Test score: 0.6869281045751634\n"
     ]
    }
   ],
   "source": [
    "from itertools import combinations \n",
    "comb = list(combinations(df5.columns, 5))\n",
    "\n",
    "i = 1\n",
    "for c in comb:\n",
    "    feature_list = [x for x in c]\n",
    "    df_t = df_train[df_train.columns.intersection(feature_list)]\n",
    "\n",
    "    y = labels.to_numpy()\n",
    "    X = df_t.to_numpy()\n",
    "    X_train, X_test, y_train, y_test = train_test_split(X, y, test_size=0.2)\n",
    "    clf = RandomForestClassifier(n_estimators=400, min_samples_split=3, min_samples_leaf=2, max_features='sqrt', max_depth=60, bootstrap=True)\n",
    "    clf.fit(X, y)\n",
    "    print('Features: ', feature_list)\n",
    "    train_score = cross_val_score(clf, X_train, y_train, cv=10).mean()\n",
    "    test_score = cross_val_score(clf, X_test, y_test, cv=10).mean()\n",
    "    print(i,' RandomForst, Train score:', train_score)\n",
    "    print(i,' RandomForst, Test score:', test_score)\n",
    "    i+=1\n",
    "    populate_featureCombo(5,feature_list,train_score,test_score)"
   ]
  },
  {
   "cell_type": "code",
   "execution_count": 0,
   "metadata": {
    "colab": {
     "base_uri": "https://localhost:8080/",
     "height": 370
    },
    "colab_type": "code",
    "id": "xX0yUJLs96pd",
    "outputId": "74cb94e5-7253-48aa-c56b-900cff4b7020"
   },
   "outputs": [
    {
     "name": "stdout",
     "output_type": "stream",
     "text": [
      "Features:  ['Sex', 'Title', 'AgeGroup', 'Fare', 'Relatives', 'Embarked']\n",
      "1  RandomForst, Train score: 0.810348200312989\n",
      "1  RandomForst, Test score: 0.7598039215686274\n",
      "Features:  ['Sex', 'Title', 'AgeGroup', 'Fare', 'Relatives', 'Pclass']\n",
      "2  RandomForst, Train score: 0.8439945226917057\n",
      "2  RandomForst, Test score: 0.7879084967320262\n",
      "Features:  ['Sex', 'Title', 'AgeGroup', 'Fare', 'Embarked', 'Pclass']\n",
      "3  RandomForst, Train score: 0.8190140845070422\n",
      "3  RandomForst, Test score: 0.7313725490196079\n",
      "Features:  ['Sex', 'Title', 'AgeGroup', 'Relatives', 'Embarked', 'Pclass']\n",
      "4  RandomForst, Train score: 0.8370500782472613\n",
      "4  RandomForst, Test score: 0.7709150326797385\n",
      "Features:  ['Sex', 'Title', 'Fare', 'Relatives', 'Embarked', 'Pclass']\n",
      "5  RandomForst, Train score: 0.827406103286385\n",
      "5  RandomForst, Test score: 0.7872549019607843\n",
      "Features:  ['Sex', 'AgeGroup', 'Fare', 'Relatives', 'Embarked', 'Pclass']\n",
      "6  RandomForst, Train score: 0.8048708920187794\n",
      "6  RandomForst, Test score: 0.8045751633986928\n",
      "Features:  ['Title', 'AgeGroup', 'Fare', 'Relatives', 'Embarked', 'Pclass']\n",
      "7  RandomForst, Train score: 0.8160211267605634\n",
      "7  RandomForst, Test score: 0.7931372549019609\n"
     ]
    }
   ],
   "source": [
    "from itertools import combinations \n",
    "comb = list(combinations(df5.columns, 6))\n",
    "\n",
    "i = 1\n",
    "for c in comb:\n",
    "    feature_list = [x for x in c]\n",
    "    df_t = df_train[df_train.columns.intersection(feature_list)]\n",
    "\n",
    "    y = labels.to_numpy()\n",
    "    X = df_t.to_numpy()\n",
    "    X_train, X_test, y_train, y_test = train_test_split(X, y, test_size=0.2)\n",
    "    clf = RandomForestClassifier(n_estimators=400, min_samples_split=3, min_samples_leaf=2, max_features='sqrt', max_depth=60, bootstrap=True)\n",
    "    clf.fit(X, y)\n",
    "    print('Features: ', feature_list)\n",
    "    train_score = cross_val_score(clf, X_train, y_train, cv=10).mean()\n",
    "    test_score = cross_val_score(clf, X_test, y_test, cv=10).mean()\n",
    "    print(i,' RandomForst, Train score:', train_score)\n",
    "    print(i,' RandomForst, Test score:', test_score)\n",
    "    i+=1\n",
    "    populate_featureCombo(6,feature_list,train_score,test_score)"
   ]
  },
  {
   "cell_type": "code",
   "execution_count": 0,
   "metadata": {
    "colab": {
     "base_uri": "https://localhost:8080/",
     "height": 68
    },
    "colab_type": "code",
    "id": "71t1sOIK96pe",
    "outputId": "39eb4166-efde-46c5-ee62-aaa3f363307b"
   },
   "outputs": [
    {
     "name": "stdout",
     "output_type": "stream",
     "text": [
      "Features:  ['Sex', 'Title', 'AgeGroup', 'Fare', 'Relatives', 'Embarked', 'Pclass']\n",
      "1  RandomForst, Train score: 0.8272300469483568\n",
      "1  RandomForst, Test score: 0.7826797385620916\n"
     ]
    }
   ],
   "source": [
    "comb = list(combinations(df5.columns, 7))\n",
    "\n",
    "i = 1\n",
    "for c in comb:\n",
    "    feature_list = [x for x in c]\n",
    "    df_t = df_train[df_train.columns.intersection(feature_list)]\n",
    "\n",
    "    y = labels.to_numpy()\n",
    "    X = df_t.to_numpy()\n",
    "    X_train, X_test, y_train, y_test = train_test_split(X, y, test_size=0.2)\n",
    "    clf = RandomForestClassifier(n_estimators=400, min_samples_split=3, min_samples_leaf=2, max_features='sqrt', max_depth=60, bootstrap=True)\n",
    "    clf.fit(X, y)\n",
    "    print('Features: ', feature_list)\n",
    "    train_score = cross_val_score(clf, X_train, y_train, cv=10).mean()\n",
    "    test_score = cross_val_score(clf, X_test, y_test, cv=10).mean()\n",
    "    print(i,' RandomForst, Train score:', train_score)\n",
    "    print(i,' RandomForst, Test score:', test_score)\n",
    "    i+=1\n",
    "    populate_featureCombo(7,feature_list,train_score,test_score)"
   ]
  },
  {
   "cell_type": "code",
   "execution_count": 0,
   "metadata": {
    "colab": {
     "base_uri": "https://localhost:8080/",
     "height": 419
    },
    "colab_type": "code",
    "id": "vUnqHcuh96pg",
    "outputId": "2978775c-146f-42be-bdd7-5c0dc82286fa"
   },
   "outputs": [
    {
     "data": {
      "text/html": [
       "<div>\n",
       "<style scoped>\n",
       "    .dataframe tbody tr th:only-of-type {\n",
       "        vertical-align: middle;\n",
       "    }\n",
       "\n",
       "    .dataframe tbody tr th {\n",
       "        vertical-align: top;\n",
       "    }\n",
       "\n",
       "    .dataframe thead th {\n",
       "        text-align: right;\n",
       "    }\n",
       "</style>\n",
       "<table border=\"1\" class=\"dataframe\">\n",
       "  <thead>\n",
       "    <tr style=\"text-align: right;\">\n",
       "      <th></th>\n",
       "      <th>Combination</th>\n",
       "      <th>Features</th>\n",
       "      <th>Train Score</th>\n",
       "      <th>Test Score</th>\n",
       "    </tr>\n",
       "  </thead>\n",
       "  <tbody>\n",
       "    <tr>\n",
       "      <th>0</th>\n",
       "      <td>1</td>\n",
       "      <td>[Sex]</td>\n",
       "      <td>0.790689</td>\n",
       "      <td>0.771569</td>\n",
       "    </tr>\n",
       "    <tr>\n",
       "      <th>1</th>\n",
       "      <td>1</td>\n",
       "      <td>[Title]</td>\n",
       "      <td>0.786581</td>\n",
       "      <td>0.793791</td>\n",
       "    </tr>\n",
       "    <tr>\n",
       "      <th>2</th>\n",
       "      <td>1</td>\n",
       "      <td>[AgeGroup]</td>\n",
       "      <td>0.608138</td>\n",
       "      <td>0.598039</td>\n",
       "    </tr>\n",
       "    <tr>\n",
       "      <th>3</th>\n",
       "      <td>1</td>\n",
       "      <td>[Fare]</td>\n",
       "      <td>0.630595</td>\n",
       "      <td>0.692484</td>\n",
       "    </tr>\n",
       "    <tr>\n",
       "      <th>4</th>\n",
       "      <td>1</td>\n",
       "      <td>[Relatives]</td>\n",
       "      <td>0.665610</td>\n",
       "      <td>0.647386</td>\n",
       "    </tr>\n",
       "    <tr>\n",
       "      <th>...</th>\n",
       "      <td>...</td>\n",
       "      <td>...</td>\n",
       "      <td>...</td>\n",
       "      <td>...</td>\n",
       "    </tr>\n",
       "    <tr>\n",
       "      <th>122</th>\n",
       "      <td>6</td>\n",
       "      <td>[Sex, Title, AgeGroup, Relatives, Embarked, Pc...</td>\n",
       "      <td>0.837050</td>\n",
       "      <td>0.770915</td>\n",
       "    </tr>\n",
       "    <tr>\n",
       "      <th>123</th>\n",
       "      <td>6</td>\n",
       "      <td>[Sex, Title, Fare, Relatives, Embarked, Pclass]</td>\n",
       "      <td>0.827406</td>\n",
       "      <td>0.787255</td>\n",
       "    </tr>\n",
       "    <tr>\n",
       "      <th>124</th>\n",
       "      <td>6</td>\n",
       "      <td>[Sex, AgeGroup, Fare, Relatives, Embarked, Pcl...</td>\n",
       "      <td>0.804871</td>\n",
       "      <td>0.804575</td>\n",
       "    </tr>\n",
       "    <tr>\n",
       "      <th>125</th>\n",
       "      <td>6</td>\n",
       "      <td>[Title, AgeGroup, Fare, Relatives, Embarked, P...</td>\n",
       "      <td>0.816021</td>\n",
       "      <td>0.793137</td>\n",
       "    </tr>\n",
       "    <tr>\n",
       "      <th>126</th>\n",
       "      <td>7</td>\n",
       "      <td>[Sex, Title, AgeGroup, Fare, Relatives, Embark...</td>\n",
       "      <td>0.827230</td>\n",
       "      <td>0.782680</td>\n",
       "    </tr>\n",
       "  </tbody>\n",
       "</table>\n",
       "<p>127 rows × 4 columns</p>\n",
       "</div>"
      ],
      "text/plain": [
       "    Combination  ... Test Score\n",
       "0             1  ...   0.771569\n",
       "1             1  ...   0.793791\n",
       "2             1  ...   0.598039\n",
       "3             1  ...   0.692484\n",
       "4             1  ...   0.647386\n",
       "..          ...  ...        ...\n",
       "122           6  ...   0.770915\n",
       "123           6  ...   0.787255\n",
       "124           6  ...   0.804575\n",
       "125           6  ...   0.793137\n",
       "126           7  ...   0.782680\n",
       "\n",
       "[127 rows x 4 columns]"
      ]
     },
     "execution_count": 67,
     "metadata": {
      "tags": []
     },
     "output_type": "execute_result"
    }
   ],
   "source": [
    "df_feature_combination"
   ]
  },
  {
   "cell_type": "code",
   "execution_count": 0,
   "metadata": {
    "colab": {},
    "colab_type": "code",
    "id": "tms7v1CJI8ZC"
   },
   "outputs": [],
   "source": [
    "df_feature_combination = df_feature_combination.sort_values(by='Test Score',ascending=False)"
   ]
  },
  {
   "cell_type": "code",
   "execution_count": 0,
   "metadata": {
    "colab": {
     "base_uri": "https://localhost:8080/",
     "height": 204
    },
    "colab_type": "code",
    "id": "V1OvmHXdNn9k",
    "outputId": "d3ce4e1d-4bf7-4d35-f9e7-828d7c65f28b"
   },
   "outputs": [
    {
     "data": {
      "text/html": [
       "<div>\n",
       "<style scoped>\n",
       "    .dataframe tbody tr th:only-of-type {\n",
       "        vertical-align: middle;\n",
       "    }\n",
       "\n",
       "    .dataframe tbody tr th {\n",
       "        vertical-align: top;\n",
       "    }\n",
       "\n",
       "    .dataframe thead th {\n",
       "        text-align: right;\n",
       "    }\n",
       "</style>\n",
       "<table border=\"1\" class=\"dataframe\">\n",
       "  <thead>\n",
       "    <tr style=\"text-align: right;\">\n",
       "      <th></th>\n",
       "      <th>Combination</th>\n",
       "      <th>Features</th>\n",
       "      <th>Train Score</th>\n",
       "      <th>Test Score</th>\n",
       "    </tr>\n",
       "  </thead>\n",
       "  <tbody>\n",
       "    <tr>\n",
       "      <th>64</th>\n",
       "      <td>4</td>\n",
       "      <td>[Sex, Title, AgeGroup, Relatives]</td>\n",
       "      <td>0.799022</td>\n",
       "      <td>0.849673</td>\n",
       "    </tr>\n",
       "    <tr>\n",
       "      <th>103</th>\n",
       "      <td>5</td>\n",
       "      <td>[Sex, Title, AgeGroup, Embarked, Pclass]</td>\n",
       "      <td>0.806279</td>\n",
       "      <td>0.843464</td>\n",
       "    </tr>\n",
       "    <tr>\n",
       "      <th>104</th>\n",
       "      <td>5</td>\n",
       "      <td>[Sex, Title, Fare, Relatives, Embarked]</td>\n",
       "      <td>0.813106</td>\n",
       "      <td>0.837908</td>\n",
       "    </tr>\n",
       "    <tr>\n",
       "      <th>105</th>\n",
       "      <td>5</td>\n",
       "      <td>[Sex, Title, Fare, Relatives, Pclass]</td>\n",
       "      <td>0.817410</td>\n",
       "      <td>0.832353</td>\n",
       "    </tr>\n",
       "    <tr>\n",
       "      <th>113</th>\n",
       "      <td>5</td>\n",
       "      <td>[Title, AgeGroup, Fare, Relatives, Embarked]</td>\n",
       "      <td>0.818760</td>\n",
       "      <td>0.832353</td>\n",
       "    </tr>\n",
       "  </tbody>\n",
       "</table>\n",
       "</div>"
      ],
      "text/plain": [
       "    Combination  ... Test Score\n",
       "64            4  ...   0.849673\n",
       "103           5  ...   0.843464\n",
       "104           5  ...   0.837908\n",
       "105           5  ...   0.832353\n",
       "113           5  ...   0.832353\n",
       "\n",
       "[5 rows x 4 columns]"
      ]
     },
     "execution_count": 73,
     "metadata": {
      "tags": []
     },
     "output_type": "execute_result"
    }
   ],
   "source": [
    "df_feature_combination.head(5)"
   ]
  },
  {
   "cell_type": "markdown",
   "metadata": {
    "colab_type": "text",
    "id": "nPqNUikQPCUy"
   },
   "source": [
    "\n",
    "#### Training using the above features\n",
    "Model1 with [Sex, Title, AgeGroup, Relatives]\t\n",
    "Model2 with [Sex, Title, AgeGroup, Embarked, Pclass]\n",
    "Model3 with [Sex, Title, Fare, Relatives, Embarked]\t"
   ]
  },
  {
   "cell_type": "code",
   "execution_count": 35,
   "metadata": {
    "colab": {},
    "colab_type": "code",
    "id": "9mUzrYYtPaVc"
   },
   "outputs": [],
   "source": [
    "df6 = df5.loc[:,['Sex', 'Title', 'AgeGroup', 'Relatives']]"
   ]
  },
  {
   "cell_type": "code",
   "execution_count": 36,
   "metadata": {
    "colab": {
     "base_uri": "https://localhost:8080/",
     "height": 450
    },
    "colab_type": "code",
    "id": "npHYU55gPyQt",
    "outputId": "30cf6685-04d0-41e0-82bb-ba73cff59865"
   },
   "outputs": [
    {
     "data": {
      "text/html": [
       "<div>\n",
       "<style scoped>\n",
       "    .dataframe tbody tr th:only-of-type {\n",
       "        vertical-align: middle;\n",
       "    }\n",
       "\n",
       "    .dataframe tbody tr th {\n",
       "        vertical-align: top;\n",
       "    }\n",
       "\n",
       "    .dataframe thead th {\n",
       "        text-align: right;\n",
       "    }\n",
       "</style>\n",
       "<table border=\"1\" class=\"dataframe\">\n",
       "  <thead>\n",
       "    <tr style=\"text-align: right;\">\n",
       "      <th></th>\n",
       "      <th>Sex</th>\n",
       "      <th>Title</th>\n",
       "      <th>AgeGroup</th>\n",
       "      <th>Relatives</th>\n",
       "    </tr>\n",
       "    <tr>\n",
       "      <th>PassengerId</th>\n",
       "      <th></th>\n",
       "      <th></th>\n",
       "      <th></th>\n",
       "      <th></th>\n",
       "    </tr>\n",
       "  </thead>\n",
       "  <tbody>\n",
       "    <tr>\n",
       "      <th>1</th>\n",
       "      <td>-0.743497</td>\n",
       "      <td>-0.715617</td>\n",
       "      <td>0.353004</td>\n",
       "      <td>0.073352</td>\n",
       "    </tr>\n",
       "    <tr>\n",
       "      <th>2</th>\n",
       "      <td>1.344995</td>\n",
       "      <td>0.179930</td>\n",
       "      <td>0.353004</td>\n",
       "      <td>0.073352</td>\n",
       "    </tr>\n",
       "    <tr>\n",
       "      <th>3</th>\n",
       "      <td>1.344995</td>\n",
       "      <td>1.075478</td>\n",
       "      <td>-1.091002</td>\n",
       "      <td>-0.558346</td>\n",
       "    </tr>\n",
       "    <tr>\n",
       "      <th>4</th>\n",
       "      <td>1.344995</td>\n",
       "      <td>0.179930</td>\n",
       "      <td>0.353004</td>\n",
       "      <td>0.073352</td>\n",
       "    </tr>\n",
       "    <tr>\n",
       "      <th>5</th>\n",
       "      <td>-0.743497</td>\n",
       "      <td>-0.715617</td>\n",
       "      <td>0.353004</td>\n",
       "      <td>-0.558346</td>\n",
       "    </tr>\n",
       "    <tr>\n",
       "      <th>...</th>\n",
       "      <td>...</td>\n",
       "      <td>...</td>\n",
       "      <td>...</td>\n",
       "      <td>...</td>\n",
       "    </tr>\n",
       "    <tr>\n",
       "      <th>1305</th>\n",
       "      <td>-0.743497</td>\n",
       "      <td>-0.715617</td>\n",
       "      <td>-1.091002</td>\n",
       "      <td>-0.558346</td>\n",
       "    </tr>\n",
       "    <tr>\n",
       "      <th>1306</th>\n",
       "      <td>1.344995</td>\n",
       "      <td>2.866573</td>\n",
       "      <td>0.353004</td>\n",
       "      <td>-0.558346</td>\n",
       "    </tr>\n",
       "    <tr>\n",
       "      <th>1307</th>\n",
       "      <td>-0.743497</td>\n",
       "      <td>-0.715617</td>\n",
       "      <td>0.353004</td>\n",
       "      <td>-0.558346</td>\n",
       "    </tr>\n",
       "    <tr>\n",
       "      <th>1308</th>\n",
       "      <td>-0.743497</td>\n",
       "      <td>-0.715617</td>\n",
       "      <td>-1.091002</td>\n",
       "      <td>-0.558346</td>\n",
       "    </tr>\n",
       "    <tr>\n",
       "      <th>1309</th>\n",
       "      <td>-0.743497</td>\n",
       "      <td>1.971025</td>\n",
       "      <td>-1.091002</td>\n",
       "      <td>0.705051</td>\n",
       "    </tr>\n",
       "  </tbody>\n",
       "</table>\n",
       "<p>1309 rows × 4 columns</p>\n",
       "</div>"
      ],
      "text/plain": [
       "                  Sex     Title  AgeGroup  Relatives\n",
       "PassengerId                                         \n",
       "1           -0.743497 -0.715617  0.353004   0.073352\n",
       "2            1.344995  0.179930  0.353004   0.073352\n",
       "3            1.344995  1.075478 -1.091002  -0.558346\n",
       "4            1.344995  0.179930  0.353004   0.073352\n",
       "5           -0.743497 -0.715617  0.353004  -0.558346\n",
       "...               ...       ...       ...        ...\n",
       "1305        -0.743497 -0.715617 -1.091002  -0.558346\n",
       "1306         1.344995  2.866573  0.353004  -0.558346\n",
       "1307        -0.743497 -0.715617  0.353004  -0.558346\n",
       "1308        -0.743497 -0.715617 -1.091002  -0.558346\n",
       "1309        -0.743497  1.971025 -1.091002   0.705051\n",
       "\n",
       "[1309 rows x 4 columns]"
      ]
     },
     "execution_count": 36,
     "metadata": {},
     "output_type": "execute_result"
    }
   ],
   "source": [
    "df6"
   ]
  },
  {
   "cell_type": "code",
   "execution_count": 37,
   "metadata": {
    "colab": {
     "base_uri": "https://localhost:8080/",
     "height": 51
    },
    "colab_type": "code",
    "id": "8gFA2a-OQGbF",
    "outputId": "1d5d448d-8d6c-4980-d801-6b598d2f0029"
   },
   "outputs": [
    {
     "name": "stdout",
     "output_type": "stream",
     "text": [
      "RandomForst, Train score: 0.8145539906103286\n",
      "RandomForst, Test score: 0.8274509803921568\n"
     ]
    }
   ],
   "source": [
    "# Train a RandomForst model\n",
    "from sklearn.ensemble import RandomForestClassifier\n",
    "from sklearn.model_selection import cross_val_score\n",
    "# df_train = df5[:891]\n",
    "df_model1_train = df6[:891]\n",
    "y = labels.to_numpy()\n",
    "X = df_model1_train.to_numpy()\n",
    "# X_train, X_test, y_train, y_test = train_test_split(X, y, test_size=0.2)\n",
    "clf = RandomForestClassifier(n_estimators=1888, min_samples_split=5, min_samples_leaf=3, max_features=4, max_depth=11, bootstrap=False)\n",
    "#clf = RandomForestClassifier(n_estimators=1200, min_samples_split=4, min_samples_leaf=1, max_features='auto', max_depth=5, bootstrap=True)\n",
    "\n",
    "clf.fit(X, y)\n",
    "print('RandomForst, Train score:', cross_val_score(clf, X_train, y_train, cv=10).mean())\n",
    "print('RandomForst, Test score:', cross_val_score(clf, X_test, y_test, cv=10).mean())"
   ]
  },
  {
   "cell_type": "markdown",
   "metadata": {
    "colab_type": "text",
    "id": "CtzHHuIzQrmJ"
   },
   "source": [
    "#### Optimizing the above model further with Hyperparameter tuning"
   ]
  },
  {
   "cell_type": "code",
   "execution_count": 0,
   "metadata": {
    "colab": {},
    "colab_type": "code",
    "id": "uH9nvnZ9Qwea"
   },
   "outputs": [],
   "source": [
    "# First create the base model to tune\n",
    "# Random search of parameters, using 3 fold cross validation, \n",
    "# search across 100 different combinations, and use all available cores\n",
    "from sklearn.model_selection import RandomizedSearchCV\n",
    "# Number of trees in random forest\n",
    "n_estimators = [int(x) for x in np.linspace(start = 200, stop = 2000, num = 10)]\n",
    "# Number of features to consider at every split\n",
    "max_features = ['auto', 'sqrt']\n",
    "# Maximum number of levels in tree\n",
    "max_depth = [int(x) for x in np.linspace(40,60, num = 5)]\n",
    "max_depth.append(None)\n",
    "# Minimum number of samples required to split a node\n",
    "min_samples_split = [3, 4, 5, 6, 7]\n",
    "# Minimum number of samples required at each leaf node\n",
    "min_samples_leaf = [1,2,5]\n",
    "# Method of selecting samples for training each tree\n",
    "bootstrap = [True, False]\n",
    "\n",
    "max_features = [2, 4, 6, 8]\n",
    "# Create the random grid\n",
    "random_grid = {'n_estimators': n_estimators,\n",
    "               'max_features': max_features,\n",
    "               'max_depth': max_depth,\n",
    "               'min_samples_split': min_samples_split,\n",
    "               'min_samples_leaf': min_samples_leaf,\n",
    "               'bootstrap': bootstrap}\n",
    "               "
   ]
  },
  {
   "cell_type": "code",
   "execution_count": 0,
   "metadata": {
    "colab": {
     "base_uri": "https://localhost:8080/",
     "height": 156
    },
    "colab_type": "code",
    "id": "SRC33JHRQz0d",
    "outputId": "f75958e6-4d33-41ac-b66a-627d33b0c4e7"
   },
   "outputs": [
    {
     "name": "stdout",
     "output_type": "stream",
     "text": [
      "Fitting 3 folds for each of 100 candidates, totalling 300 fits\n"
     ]
    },
    {
     "name": "stderr",
     "output_type": "stream",
     "text": [
      "[Parallel(n_jobs=-1)]: Using backend LokyBackend with 2 concurrent workers.\n",
      "[Parallel(n_jobs=-1)]: Done  37 tasks      | elapsed:   43.9s\n",
      "[Parallel(n_jobs=-1)]: Done 158 tasks      | elapsed:  2.1min\n",
      "[Parallel(n_jobs=-1)]: Done 300 out of 300 | elapsed:  4.1min finished\n"
     ]
    },
    {
     "name": "stdout",
     "output_type": "stream",
     "text": [
      "Score: 0.8294051627384961\n",
      "Best parameters: {'n_estimators': 800, 'min_samples_split': 4, 'min_samples_leaf': 5, 'max_features': 4, 'max_depth': 40, 'bootstrap': True}\n"
     ]
    }
   ],
   "source": [
    "rf_random = RandomizedSearchCV(estimator = clf, param_distributions = random_grid, n_iter = 100, cv = 3, verbose=2, random_state=42, n_jobs = -1)\n",
    "# Fit the random search model\n",
    "rf_random.fit(X, y)\n",
    "print('Score:', rf_random.score(X, y))\n",
    "print('Best parameters:', rf_random.best_params_)"
   ]
  },
  {
   "cell_type": "code",
   "execution_count": 38,
   "metadata": {
    "colab": {},
    "colab_type": "code",
    "id": "IWfVOR-3Q1VZ"
   },
   "outputs": [],
   "source": [
    "clf_optimised = RandomForestClassifier(n_estimators=800, min_samples_split=4,max_features=4,min_samples_leaf=5, max_depth=55, bootstrap=True)"
   ]
  },
  {
   "cell_type": "code",
   "execution_count": 39,
   "metadata": {
    "colab": {
     "base_uri": "https://localhost:8080/",
     "height": 51
    },
    "colab_type": "code",
    "id": "Z-ps7b5yQ5t_",
    "outputId": "0d8df718-bcfd-406d-d73a-d3b7b1ef6f6f"
   },
   "outputs": [
    {
     "name": "stdout",
     "output_type": "stream",
     "text": [
      "RandomForst, Train score: 0.8145539906103286\n",
      "RandomForst, Test score: 0.8274509803921568\n"
     ]
    }
   ],
   "source": [
    "clf_optimised.fit(X, y)\n",
    "print('RandomForst, Train score:', cross_val_score(clf, X_train, y_train, cv=10).mean())\n",
    "print('RandomForst, Test score:', cross_val_score(clf, X_test, y_test, cv=10).mean())"
   ]
  },
  {
   "cell_type": "code",
   "execution_count": 40,
   "metadata": {
    "colab": {
     "base_uri": "https://localhost:8080/",
     "height": 326
    },
    "colab_type": "code",
    "id": "H-sZpGNbQ8QY",
    "outputId": "af1b1860-5c5f-4fc9-915f-6459cbc85271"
   },
   "outputs": [],
   "source": [
    "res_optimised = clf_optimised.predict(df6[891:].to_numpy()).astype(int)"
   ]
  },
  {
   "cell_type": "code",
   "execution_count": 41,
   "metadata": {
    "colab": {
     "base_uri": "https://localhost:8080/",
     "height": 34
    },
    "colab_type": "code",
    "id": "coIh-uS_TWtD",
    "outputId": "a59b9852-9dcf-43c7-d44f-404e64fcb685"
   },
   "outputs": [
    {
     "data": {
      "text/plain": [
       "(418,)"
      ]
     },
     "execution_count": 41,
     "metadata": {},
     "output_type": "execute_result"
    }
   ],
   "source": [
    "res_optimised.shape"
   ]
  },
  {
   "cell_type": "markdown",
   "metadata": {
    "colab_type": "text",
    "id": "9mr0uRikTgdJ"
   },
   "source": [
    "#### Creating a csv file for Kaggle submission\n"
   ]
  },
  {
   "cell_type": "code",
   "execution_count": 42,
   "metadata": {
    "colab": {},
    "colab_type": "code",
    "id": "nevICo76TtYu"
   },
   "outputs": [],
   "source": [
    "def create_submission(results):\n",
    "  \"\"\"\n",
    "  Accepts a numpy array\n",
    "  \"\"\"\n",
    "  global df_test\n",
    "  df_test['Survived'] = results\n",
    "  df_res = df_test.loc[:,'Survived']\n",
    "  df_res.to_csv('results.csv', index = True, header=True)\n",
    "  "
   ]
  },
  {
   "cell_type": "code",
   "execution_count": 43,
   "metadata": {
    "colab": {
     "base_uri": "https://localhost:8080/",
     "height": 326
    },
    "colab_type": "code",
    "id": "Nws06d8RUOIO",
    "outputId": "b8197094-9aad-4a92-c94d-4b45036d1fa1"
   },
   "outputs": [],
   "source": [
    "create_submission(res_optimised)"
   ]
  }
 ],
 "metadata": {
  "accelerator": "GPU",
  "colab": {
   "name": "PCA and Feature Combinations Than.ipynb",
   "provenance": []
  },
  "kernelspec": {
   "display_name": "Python 3",
   "language": "python",
   "name": "python3"
  },
  "language_info": {
   "codemirror_mode": {
    "name": "ipython",
    "version": 3
   },
   "file_extension": ".py",
   "mimetype": "text/x-python",
   "name": "python",
   "nbconvert_exporter": "python",
   "pygments_lexer": "ipython3",
   "version": "3.7.3"
  }
 },
 "nbformat": 4,
 "nbformat_minor": 1
}
